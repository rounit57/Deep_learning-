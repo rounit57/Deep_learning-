{
  "nbformat": 4,
  "nbformat_minor": 0,
  "metadata": {
    "colab": {
      "provenance": [],
      "authorship_tag": "ABX9TyOLN015zYAI7DD+Ykmenndb",
      "include_colab_link": true
    },
    "kernelspec": {
      "name": "python3",
      "display_name": "Python 3"
    },
    "language_info": {
      "name": "python"
    }
  },
  "cells": [
    {
      "cell_type": "markdown",
      "metadata": {
        "id": "view-in-github",
        "colab_type": "text"
      },
      "source": [
        "<a href=\"https://colab.research.google.com/github/rounit57/Deep_learning-/blob/main/Final_Q1_Q10.ipynb\" target=\"_parent\"><img src=\"https://colab.research.google.com/assets/colab-badge.svg\" alt=\"Open In Colab\"/></a>"
      ]
    },
    {
      "cell_type": "code",
      "source": [
        "!pip install wandb\n",
        "# !wandb login\n",
        "import wandb"
      ],
      "metadata": {
        "id": "lN33qcI_P28X",
        "colab": {
          "base_uri": "https://localhost:8080/"
        },
        "outputId": "dd4a68b4-5da1-4f1d-83e6-fdf1ae7f9511"
      },
      "execution_count": null,
      "outputs": [
        {
          "output_type": "stream",
          "name": "stdout",
          "text": [
            "Looking in indexes: https://pypi.org/simple, https://us-python.pkg.dev/colab-wheels/public/simple/\n",
            "Requirement already satisfied: wandb in /usr/local/lib/python3.9/dist-packages (0.14.0)\n",
            "Requirement already satisfied: setuptools in /usr/local/lib/python3.9/dist-packages (from wandb) (63.4.3)\n",
            "Requirement already satisfied: typing-extensions in /usr/local/lib/python3.9/dist-packages (from wandb) (4.5.0)\n",
            "Requirement already satisfied: pathtools in /usr/local/lib/python3.9/dist-packages (from wandb) (0.1.2)\n",
            "Requirement already satisfied: docker-pycreds>=0.4.0 in /usr/local/lib/python3.9/dist-packages (from wandb) (0.4.0)\n",
            "Requirement already satisfied: Click!=8.0.0,>=7.0 in /usr/local/lib/python3.9/dist-packages (from wandb) (8.1.3)\n",
            "Requirement already satisfied: protobuf!=4.21.0,<5,>=3.15.0 in /usr/local/lib/python3.9/dist-packages (from wandb) (3.19.6)\n",
            "Requirement already satisfied: GitPython!=3.1.29,>=1.0.0 in /usr/local/lib/python3.9/dist-packages (from wandb) (3.1.31)\n",
            "Requirement already satisfied: PyYAML in /usr/local/lib/python3.9/dist-packages (from wandb) (6.0)\n",
            "Requirement already satisfied: psutil>=5.0.0 in /usr/local/lib/python3.9/dist-packages (from wandb) (5.9.4)\n",
            "Requirement already satisfied: setproctitle in /usr/local/lib/python3.9/dist-packages (from wandb) (1.3.2)\n",
            "Requirement already satisfied: sentry-sdk>=1.0.0 in /usr/local/lib/python3.9/dist-packages (from wandb) (1.17.0)\n",
            "Requirement already satisfied: appdirs>=1.4.3 in /usr/local/lib/python3.9/dist-packages (from wandb) (1.4.4)\n",
            "Requirement already satisfied: requests<3,>=2.0.0 in /usr/local/lib/python3.9/dist-packages (from wandb) (2.27.1)\n",
            "Requirement already satisfied: six>=1.4.0 in /usr/local/lib/python3.9/dist-packages (from docker-pycreds>=0.4.0->wandb) (1.15.0)\n",
            "Requirement already satisfied: gitdb<5,>=4.0.1 in /usr/local/lib/python3.9/dist-packages (from GitPython!=3.1.29,>=1.0.0->wandb) (4.0.10)\n",
            "Requirement already satisfied: charset-normalizer~=2.0.0 in /usr/local/lib/python3.9/dist-packages (from requests<3,>=2.0.0->wandb) (2.0.12)\n",
            "Requirement already satisfied: certifi>=2017.4.17 in /usr/local/lib/python3.9/dist-packages (from requests<3,>=2.0.0->wandb) (2022.12.7)\n",
            "Requirement already satisfied: urllib3<1.27,>=1.21.1 in /usr/local/lib/python3.9/dist-packages (from requests<3,>=2.0.0->wandb) (1.26.15)\n",
            "Requirement already satisfied: idna<4,>=2.5 in /usr/local/lib/python3.9/dist-packages (from requests<3,>=2.0.0->wandb) (3.4)\n",
            "Requirement already satisfied: smmap<6,>=3.0.1 in /usr/local/lib/python3.9/dist-packages (from gitdb<5,>=4.0.1->GitPython!=3.1.29,>=1.0.0->wandb) (5.0.0)\n"
          ]
        }
      ]
    },
    {
      "cell_type": "code",
      "execution_count": null,
      "metadata": {
        "id": "NrUjy0HcN0l9"
      },
      "outputs": [],
      "source": [
        "from keras.datasets import fashion_mnist\n",
        "import numpy as np\n",
        "from  matplotlib import pyplot as plt\n",
        "import time\n",
        "import math\n",
        "from sklearn.model_selection import train_test_split\n",
        "from tqdm.auto import tqdm"
      ]
    },
    {
      "cell_type": "code",
      "source": [
        "imagedata=fashion_mnist.load_data()\n",
        "(X,Y), (X_test,Y_test)=imagedata\n",
        "X_train,X_val,Y_train,Y_val=train_test_split(X,Y,test_size=0.1,random_state = 43)\n",
        "\n",
        "no_of_class = len(np.unique(Y))\n",
        "pix_size = X.shape[1]*X.shape[2]\n",
        "\n",
        "global no_of_class\n",
        "global pix_size\n",
        "\n",
        "X_train = (X_train.reshape(X_train.shape[0],pix_size,1))/255.0\n",
        "X_val = (X_val.reshape(X_val.shape[0],pix_size,1))/255.0\n",
        "X_test = (X_test.reshape(X_test.shape[0],pix_size,1))/255.0\n",
        "\n",
        "# Y_train = one_hot_encode_encode(Y_train).T\n",
        "# Y_val = onr_hot_encode(Y_val).T\n",
        "# Y_test = one_hot_encode_encode(Y_test).T\n",
        "\n",
        "\n",
        "\n",
        "# print(X_train.shape) \n",
        "# print(X_test.shape)\n",
        "# print(X_val.shape)\n",
        "# print(Y_train.shape)\n",
        "# print(Y_test.shape)\n"
      ],
      "metadata": {
        "id": "UhpA4wcWN_5e"
      },
      "execution_count": null,
      "outputs": []
    },
    {
      "cell_type": "code",
      "source": [
        "wandb.init(project=\"cs6910_Ass_01_Q1\", entity=\"rounit57\")"
      ],
      "metadata": {
        "id": "RP9w-lfeP_aX",
        "colab": {
          "base_uri": "https://localhost:8080/",
          "height": 212
        },
        "outputId": "7bdcbbf5-97e8-4f2a-9358-c42a92f5ea42"
      },
      "execution_count": null,
      "outputs": [
        {
          "output_type": "display_data",
          "data": {
            "text/plain": [
              "<IPython.core.display.Javascript object>"
            ],
            "application/javascript": [
              "\n",
              "        window._wandbApiKey = new Promise((resolve, reject) => {\n",
              "            function loadScript(url) {\n",
              "            return new Promise(function(resolve, reject) {\n",
              "                let newScript = document.createElement(\"script\");\n",
              "                newScript.onerror = reject;\n",
              "                newScript.onload = resolve;\n",
              "                document.body.appendChild(newScript);\n",
              "                newScript.src = url;\n",
              "            });\n",
              "            }\n",
              "            loadScript(\"https://cdn.jsdelivr.net/npm/postmate/build/postmate.min.js\").then(() => {\n",
              "            const iframe = document.createElement('iframe')\n",
              "            iframe.style.cssText = \"width:0;height:0;border:none\"\n",
              "            document.body.appendChild(iframe)\n",
              "            const handshake = new Postmate({\n",
              "                container: iframe,\n",
              "                url: 'https://wandb.ai/authorize'\n",
              "            });\n",
              "            const timeout = setTimeout(() => reject(\"Couldn't auto authenticate\"), 5000)\n",
              "            handshake.then(function(child) {\n",
              "                child.on('authorize', data => {\n",
              "                    clearTimeout(timeout)\n",
              "                    resolve(data)\n",
              "                });\n",
              "            });\n",
              "            })\n",
              "        });\n",
              "    "
            ]
          },
          "metadata": {}
        },
        {
          "output_type": "stream",
          "name": "stderr",
          "text": [
            "\u001b[34m\u001b[1mwandb\u001b[0m: Logging into wandb.ai. (Learn how to deploy a W&B server locally: https://wandb.me/wandb-server)\n",
            "\u001b[34m\u001b[1mwandb\u001b[0m: You can find your API key in your browser here: https://wandb.ai/authorize\n",
            "wandb: Paste an API key from your profile and hit enter, or press ctrl+c to quit:"
          ]
        },
        {
          "name": "stdout",
          "output_type": "stream",
          "text": [
            " ··········\n"
          ]
        },
        {
          "output_type": "stream",
          "name": "stderr",
          "text": [
            "\u001b[34m\u001b[1mwandb\u001b[0m: Appending key for api.wandb.ai to your netrc file: /root/.netrc\n"
          ]
        },
        {
          "output_type": "display_data",
          "data": {
            "text/plain": [
              "<IPython.core.display.HTML object>"
            ],
            "text/html": [
              "Tracking run with wandb version 0.14.0"
            ]
          },
          "metadata": {}
        },
        {
          "output_type": "display_data",
          "data": {
            "text/plain": [
              "<IPython.core.display.HTML object>"
            ],
            "text/html": [
              "Run data is saved locally in <code>/content/wandb/run-20230319_141531-8spubhud</code>"
            ]
          },
          "metadata": {}
        },
        {
          "output_type": "display_data",
          "data": {
            "text/plain": [
              "<IPython.core.display.HTML object>"
            ],
            "text/html": [
              "Syncing run <strong><a href='https://wandb.ai/rounit57/cs6910_Ass_01_Q1/runs/8spubhud' target=\"_blank\">efficient-glitter-3</a></strong> to <a href='https://wandb.ai/rounit57/cs6910_Ass_01_Q1' target=\"_blank\">Weights & Biases</a> (<a href='https://wandb.me/run' target=\"_blank\">docs</a>)<br/>"
            ]
          },
          "metadata": {}
        },
        {
          "output_type": "display_data",
          "data": {
            "text/plain": [
              "<IPython.core.display.HTML object>"
            ],
            "text/html": [
              " View project at <a href='https://wandb.ai/rounit57/cs6910_Ass_01_Q1' target=\"_blank\">https://wandb.ai/rounit57/cs6910_Ass_01_Q1</a>"
            ]
          },
          "metadata": {}
        },
        {
          "output_type": "display_data",
          "data": {
            "text/plain": [
              "<IPython.core.display.HTML object>"
            ],
            "text/html": [
              " View run at <a href='https://wandb.ai/rounit57/cs6910_Ass_01_Q1/runs/8spubhud' target=\"_blank\">https://wandb.ai/rounit57/cs6910_Ass_01_Q1/runs/8spubhud</a>"
            ]
          },
          "metadata": {}
        },
        {
          "output_type": "execute_result",
          "data": {
            "text/html": [
              "<button onClick=\"this.nextSibling.style.display='block';this.style.display='none';\">Display W&B run</button><iframe src='https://wandb.ai/rounit57/cs6910_Ass_01_Q1/runs/8spubhud?jupyter=true' style='border:none;width:100%;height:420px;display:none;'></iframe>"
            ],
            "text/plain": [
              "<wandb.sdk.wandb_run.Run at 0x7f188077d880>"
            ]
          },
          "metadata": {},
          "execution_count": 5
        }
      ]
    },
    {
      "cell_type": "code",
      "source": [
        "label= {0:'T-shirt/top', 1:'Trouser', 2:'Pullover', 3:'Dress', 4:'Coat', 5:'Sandal', 6:'Shirt', 7:'Sneaker', 8:'Bag', 9:'Ankle boot' }\n",
        "\n",
        "rows = 2\n",
        "columns = 5\n",
        "no_class = 10\n",
        "y=list(Y_train)\n",
        "for i in range(no_class):\n",
        "     \n",
        "    sample=y.index(i)\n",
        "    image = X[sample]\n",
        "    plt.subplot(rows, columns,i+1)\n",
        "    wandb.log({\"Fashion_mnist\": [wandb.Image(image,caption=label[i])]})\n",
        "    plt.imshow(image, cmap='gray')\n",
        "    plt.axis('off')\n",
        "    plt.title(label[i])\n",
        "wandb.log({\"image\": plt})"
      ],
      "metadata": {
        "id": "AwfOCbQKPF55",
        "colab": {
          "base_uri": "https://localhost:8080/",
          "height": 223
        },
        "outputId": "345fa411-4051-4ec5-b42d-b1ff004d8236"
      },
      "execution_count": null,
      "outputs": [
        {
          "output_type": "display_data",
          "data": {
            "text/plain": [
              "<Figure size 432x288 with 10 Axes>"
            ],
            "image/png": "[encoded data removed]"
          },
          "metadata": {
            "needs_background": "light"
          }
        }
      ]
    },
    {
      "cell_type": "markdown",
      "source": [
        "Activation Functions and thei derivatives"
      ],
      "metadata": {
        "id": "jUN0qt_sQMjE"
      }
    },
    {
      "cell_type": "code",
      "source": [
        "def sigmoid(z,derivative = False):\n",
        "  if derivative:\n",
        "    return sigmoid_diff(z)\n",
        "  return 1/(1+(np.exp(-z)))\n",
        "  \n",
        "\n",
        "\n",
        "def softmax(z,derivative = False):\n",
        "  if derivative:\n",
        "    return softmax_diff(z)\n",
        "  return np.exp(z) / np.sum(np.exp(z))\n",
        "\n",
        "\n",
        "def relu(z,derivative = False):\n",
        "  if derivative:\n",
        "    return relu_diff(z) \n",
        "  return np.maximum(0,z)\n",
        "\n",
        "        \n",
        "def tanh_fun(z,derivative = False):\n",
        "  if derivative:\n",
        "    return tanh_fun_diff(z)\n",
        "  return (np.exp(z) - np.exp(-z)) / (np.exp(z) + np.exp(-z)) \n",
        "\n",
        "\n",
        "def sigmoid_diff(z):\n",
        "  sig = 1 / (1 + np.exp(-z))\n",
        "  return sig*(1-sig)\n",
        "\n",
        "def softmax_diff(z):    \n",
        "  return z*(1-z)\n",
        "\n",
        "def relu_diff(z):\n",
        "  relu = np.maximum(0, z)\n",
        "  relu[relu > 0] = 1\n",
        "  return relu\n",
        "\n",
        "def tanh_fun_diff(z):\n",
        "  tanh=(np.exp(z) - np.exp(-z)) / (np.exp(z) + np.exp(-z))\n",
        "  return 1-tanh**2\n",
        "\n",
        "\n",
        "# Choosing activation function\n",
        "def activation(act):\n",
        "  if act=='sigmoid':\n",
        "    return sigmoid\n",
        "  if act=='tanh':\n",
        "    return tanh_fun\n",
        "  if act=='ReLU':\n",
        "    return relu\n",
        "\n"
      ],
      "metadata": {
        "id": "H-IH6uDUQTcS"
      },
      "execution_count": null,
      "outputs": []
    },
    {
      "cell_type": "markdown",
      "source": [
        "One HOt Encoding"
      ],
      "metadata": {
        "id": "DbuJBIMFQzrJ"
      }
    },
    {
      "cell_type": "code",
      "source": [
        "def one_hot_encode(y, num_output_nodes):\n",
        "  n = np.zeros((num_output_nodes, len(y)))\n",
        "  for i,j in enumerate(y):\n",
        "    n[j,i] = 1\n",
        "  return n"
      ],
      "metadata": {
        "id": "n9LHO_oFQue8"
      },
      "execution_count": null,
      "outputs": []
    },
    {
      "cell_type": "markdown",
      "source": [
        "Weight Initialization"
      ],
      "metadata": {
        "id": "x5Y9dGDJQ6xv"
      }
    },
    {
      "cell_type": "code",
      "source": [
        "def para_init(N_I_nodes, H_layer, N_O_nodes, init_type):\n",
        "  W = []\n",
        "  B = []\n",
        "  if init_type == \"random\":\n",
        "    W.append(np.random.randn(H_layer[0],N_I_nodes)*0.1)\n",
        "    B.append(np.random.randn(H_layer[0], 1)*0.1)\n",
        "    for i in range(len(H_layer)-1):\n",
        "      W.append(np.random.randn(H_layer[i+1],H_layer[i])*0.1)\n",
        "      B.append(np.random.randn(H_layer[i+1], 1)*0.1)\n",
        "    W.append(np.random.randn(N_O_nodes, H_layer[-1])*0.1)\n",
        "    B.append(np.random.randn(N_O_nodes, 1)*0.1)\n",
        "    return W, B\n",
        "\n",
        "  if init_type == \"xavier\":\n",
        "    W.append(np.random.randn(H_layer[0],N_I_nodes)*np.sqrt(2/(H_layer[0] + N_I_nodes)))\n",
        "    B.append(np.random.randn(H_layer[0], 1)*0.1)\n",
        "    for i in range(len(H_layer)-1):\n",
        "      W.append(np.random.randn(H_layer[i+1],H_layer[i])*np.sqrt(2/(H_layer[i+1] + H_layer[i])))\n",
        "      B.append(np.random.randn(H_layer[i+1], 1)*0.1)\n",
        "    W.append(np.random.randn(N_O_nodes, H_layer[-1])*np.sqrt(2/(N_O_nodes + H_layer[-1])))\n",
        "    B.append(np.random.randn(N_O_nodes, 1)*0.1)\n",
        "    return W, B"
      ],
      "metadata": {
        "id": "EqOSue3LQ3YM"
      },
      "execution_count": null,
      "outputs": []
    },
    {
      "cell_type": "markdown",
      "source": [
        "Forward Propogation"
      ],
      "metadata": {
        "id": "kDHvtcJvRtIb"
      }
    },
    {
      "cell_type": "code",
      "source": [
        "def feed_forward(x, W, B, act_T):\n",
        "  h = []\n",
        "  a = []\n",
        "  sigma = activation(act_T) \n",
        "  h.append(x)  \n",
        "  a.append(np.dot(W[0], h[0]) + B[0])\n",
        "  for i in range(len(W)-1):\n",
        "    h.append(sigma(a[-1]))\n",
        "    a.append(np.dot(W[i+1], h[-1]) + B[i+1])\n",
        "  Y_bar = softmax(a[-1])\n",
        "\n",
        "  return Y_bar, h, a"
      ],
      "metadata": {
        "id": "Af-dhRvURo2s"
      },
      "execution_count": null,
      "outputs": []
    },
    {
      "cell_type": "markdown",
      "source": [
        "Compute Loss And Accuracy"
      ],
      "metadata": {
        "id": "4JPDW3dlSNab"
      }
    },
    {
      "cell_type": "code",
      "source": [
        "def Loss(y,Y_bar, loss_T, W, reg_lamda):\n",
        "  if loss_T == \"squared_error\":\n",
        "    error = np.sum((one_hot_encode(y, 10)-Y_bar)**2)/(2*one_hot_encode(y, 10).shape[1])\n",
        "  if loss_T == \"cross_entropy\":\n",
        "    error = -1*np.sum(np.multiply(one_hot_encode(y, 10),np.log(Y_bar)))/one_hot_encode(y, 10).shape[1]         # hardcoded classes = 10\n",
        "\n",
        "  if W:\n",
        "    r = 0\n",
        "    for i in range(len(W)):\n",
        "      r += np.sum((np.array(W, dtype = object) **2)[i])\n",
        "    error = error + reg_lamda * r\n",
        "\n",
        "  return error\n",
        "\n",
        "\n",
        "def accuracy(Y_bar, true_Y):\n",
        "  return np.mean(np.argmax(Y_bar, axis = 0) ==true_Y )*100"
      ],
      "metadata": {
        "id": "dSl8a95RRouV"
      },
      "execution_count": null,
      "outputs": []
    },
    {
      "cell_type": "markdown",
      "source": [
        "Backward Propogation"
      ],
      "metadata": {
        "id": "Xhpdf5B8SPPa"
      }
    },
    {
      "cell_type": "code",
      "source": [
        "def back_prop(x, y, Y_bar, a, h , W, B, batch_size, loss_T, act_T):\n",
        "  grad_h = [0]*len(h)\n",
        "  grad_a = [0]*len(a)\n",
        "  grad_w = [0]*len(W)\n",
        "  grad_b = [0]*len(B)\n",
        "\n",
        "  sigma = activation(act_T) \n",
        "\n",
        "  if loss_T == \"cross_entropy\":\n",
        "    grad_h[-1] = -1*(y/Y_bar)\n",
        "    grad_a[-1] = -1*(y-Y_bar)\n",
        "  if loss_T == \"squared_error\":   \n",
        "    grad_h[-1] = Y_bar - y\n",
        "    grad_a[-1] = (Y_bar - y)*softmax(a[-1])*(1-softmax(a[-1]))\n",
        "\n",
        "  for i in range(len(W)-1, -1, -1):\n",
        "    grad_w[i] = np.dot(grad_a[i], h[i].T)\n",
        "    grad_b[i] = np.dot(grad_a[i], np.ones((batch_size,1)))\n",
        "    if i > 0:\n",
        "      grad_h[i-1] = np.dot(W[i].T, grad_a[i])\n",
        "      grad_a[i-1]  = np.multiply(grad_h[i-1],sigma(a[i-1], derivative = True))\n",
        "\n",
        "  return grad_w, grad_b, grad_h, grad_a"
      ],
      "metadata": {
        "id": "Y80Gw2nNSJDJ"
      },
      "execution_count": null,
      "outputs": []
    },
    {
      "cell_type": "markdown",
      "source": [
        "Optmizers : \n",
        "SGD , MOMENTUM-BASED-GD , RMSPROP , NESTEROV , ADAM"
      ],
      "metadata": {
        "id": "ZQEVMRDDSwfL"
      }
    },
    {
      "cell_type": "code",
      "source": [
        "class SGD:\n",
        "  #  Stochastic Gradient Descent\n",
        "  def __init__(self, lr = 0.001, reg = 0):\n",
        "    self.lr = lr\n",
        "    self.reg = reg\n",
        "  \n",
        "  def update(self, w,b, grad_w, grad_b):\n",
        "    W = np.array(w, dtype = object)\n",
        "    B = np.array(b, dtype = object)\n",
        "\n",
        "    W = (1-self.lr*self.reg)*W - self.lr * np.array(grad_w, dtype = object)\n",
        "    B = (1-self.lr*self.reg)*B - self.lr * np.array(grad_b, dtype = object)\n",
        "\n",
        "    return W.tolist(),B.tolist()\n",
        "\n",
        "\n",
        "class Momentum_GD:\n",
        "\n",
        "  def __init__(self, lr = 0.001, gamma = 0.9, reg = 0):\n",
        "    self.lr = lr\n",
        "    self.gamma = gamma\n",
        "    self.Wmoments = None\n",
        "    self.Bmoments = None\n",
        "    self.reg = reg\n",
        "\n",
        "\n",
        "  def update(self, w,b, grad_w, grad_b):\n",
        "    para = {'w':w, 'b':b}\n",
        "\n",
        "    if self.Wmoments == None:\n",
        "      self.Wmoments = [0] * len(para['w'])\n",
        "      for i in range(len(para['w'])):\n",
        "        self.Wmoments[i] = np.zeros_like(para['w'][i])\n",
        "\n",
        "    if self.Bmoments == None:\n",
        "      self.Bmoments = [0] * len(para['b'])\n",
        "      for i in range(len(para['b'])):\n",
        "        self.Bmoments[i] = np.zeros_like(para['b'][i])\n",
        "    \n",
        "    self.Wmoments = self.gamma * np.array(self.Wmoments, dtype = object) + self.lr * np.array(grad_w, dtype = object)\n",
        "    W = (1-self.lr*self.reg)*np.array(para['w'], dtype = object) - self.Wmoments\n",
        "    self.Wmoments = self.Wmoments.tolist()\n",
        "\n",
        "    self.Bmoments = self.gamma * np.array(self.Bmoments, dtype = object) + self.lr * np.array(grad_b, dtype = object)\n",
        "    B = (1-self.lr*self.reg)*np.array(para['b'], dtype = object) - self.Bmoments\n",
        "    self.Bmoments = self.Bmoments.tolist()\n",
        "    \n",
        "    return W.tolist(), B.tolist()\n",
        "\n",
        "\n",
        "class RMSprop:\n",
        "  def __init__(self, lr=0.01, BT = 0.99):\n",
        "    \n",
        "    self.lr = lr\n",
        "    self.vW = None\n",
        "    self.vB = None\n",
        "    self.BT = BT\n",
        "\n",
        "  def update(self, w,b, grad_w, grad_b):\n",
        "    para = {'w':w, 'b':b}\n",
        "    if self.vW == None:\n",
        "      self.vW = [0] * len(para['w'])\n",
        "      for i in range(len(para['w'])):\n",
        "        self.vW[i] = np.zeros_like(para['w'][i])\n",
        "\n",
        "    if self.vB == None:\n",
        "      self.vB = [0] * len(para['b'])\n",
        "      for i in range(len(para['b'])):\n",
        "        self.vB[i] = np.zeros_like(para['b'][i])\n",
        "\n",
        "    self.vW = self.BT*np.array(self.vW, dtype = object) + (1-self.BT)*(np.array(grad_w, dtype = object) **2) \n",
        "    W = (1-self.lr*self.reg)*np.array(para['w'], dtype = object) - (self.lr/((self.vW + 1e-7)**0.5)) * np.array(grad_w, dtype = object)\n",
        "    self.vW = self.vW.tolist()\n",
        "\n",
        "    self.vB = self.BT*np.array(self.vB, dtype = object) + (1-self.BT)*(np.array(grad_b, dtype = object) **2 )\n",
        "    B = (1-self.lr*self.reg)*np.array(para['b'], dtype = object) - (self.lr/((self.vB + 1e-7)**0.5)) * np.array(grad_b, dtype = object)\n",
        "    self.vB = self.vB.tolist()\n",
        "\n",
        "    return W.tolist(), B.tolist()\n",
        "\n",
        "class Nesterov:   \n",
        "  def __init__(self, lr=0.01, gamma=0.9):\n",
        "    self.lr = lr\n",
        "    self.reg = None\n",
        "    self.gamma = gamma                                                             \n",
        "    self.Wmoments = None\n",
        "    self.Bmoments = None\n",
        "    self.act_T = None\n",
        "    self.loss_T = None\n",
        "        \n",
        "  def update(self, w,b, grad_w, grad_b):\n",
        "    para = {'w':w, 'b':b}\n",
        "    if self.Wmoments == None:\n",
        "      self.Wmoments = [0] * len(para['w'])\n",
        "      for i in range(len(para['w'])):\n",
        "        self.Wmoments[i] = np.zeros_like(para['w'][i])\n",
        "\n",
        "    if self.Bmoments == None:\n",
        "      self.Bmoments = [0] * len(para['b'])\n",
        "      for i in range(len(para['b'])):\n",
        "        self.Bmoments[i] = np.zeros_like(para['b'][i])\n",
        "\n",
        "\n",
        "    W_look_ahead = np.array(para['w'], dtype = object) - self.gamma*np.array(self.Wmoments, dtype = object)\n",
        "    B_look_ahead = np.array(para['b'], dtype = object) - self.gamma*np.array(self.Bmoments, dtype = object)\n",
        "    \n",
        "    out, temp_h, temp_a = feed_forward(x,W_look_ahead.tolist(),B_look_ahead.tolist(), self.act_T)\n",
        "    grad_w_look_ahead, grad_b_look_ahead, _, _ = back_prop(x, y,out,temp_a,temp_h, W_look_ahead.tolist(),B_look_ahead.tolist(), x.shape[1], self.loss_T, self.act_T)\n",
        "\n",
        "    \n",
        "    self.Wmoments = self.gamma*np.array(self.Wmoments, dtype = object) + self.lr * np.array(grad_w_look_ahead, dtype = object)\n",
        "    self.Bmoments = self.gamma*np.array(self.Bmoments, dtype = object) + self.lr * np.array(grad_b_look_ahead, dtype = object)\n",
        "\n",
        "    W = (1-self.lr*self.reg)*np.array(para['w'], dtype = object) - self.Wmoments\n",
        "    self.Wmoments = self.Wmoments.tolist()\n",
        "\n",
        "    B = (1-self.lr*self.reg)*np.array(para['b'], dtype = object) - self.Bmoments\n",
        "    self.Bmoments = self.Bmoments.tolist()\n",
        "\n",
        "    return W.tolist(), B.tolist()\n",
        "\n",
        "class Adam:\n",
        "  def __init__(self, lr=0.001, BT1=0.9, BT2=0.999, reg = 0):\n",
        "    self.lr = lr\n",
        "    self.BT1 = BT1\n",
        "    self.BT2 = BT2\n",
        "    self.t = 0\n",
        "    self.mW = None\n",
        "    self.vW = None\n",
        "    self.mB = None\n",
        "    self.vB = None\n",
        "    self.reg = None\n",
        "        \n",
        "  def update(self, w,b, grad_w, grad_b):\n",
        "    para = {'w':w, 'b':b}\n",
        "\n",
        "    if self.mW is None:\n",
        "      self.mW, self.vW = [0] * len(para['w']), [0] * len(para['w'])\n",
        "      for i in range(len(para['w'])):\n",
        "        self.mW[i] = np.zeros_like(para['w'][i])\n",
        "        self.vW[i] = np.zeros_like(para['w'][i])\n",
        "\n",
        "    if self.mB is None:\n",
        "      self.mB, self.vB = [0] * len(para['b']), [0] * len(para['b'])\n",
        "      for i in range(len(para['b'])):\n",
        "        self.mB[i] = np.zeros_like(para['b'][i])\n",
        "        self.vB[i] = np.zeros_like(para['b'][i])\n",
        "    \n",
        "\n",
        "    self.t += 1\n",
        "    self.mW = (self.BT1 * np.array(self.mW, dtype = object)) + (1-self.BT1)*(np.array(grad_w, dtype = object))\n",
        "    self.vW = (self.BT2 * np.array(self.vW, dtype = object)) + (1-self.BT2)*((np.array(grad_w, dtype = object)**2))\n",
        "\n",
        "    self.mB = (self.BT1 * np.array(self.mB, dtype = object)) + (1-self.BT1)*(np.array(grad_b, dtype = object))\n",
        "    self.vB = (self.BT2 * np.array(self.vB, dtype = object)) + (1-self.BT2)*((np.array(grad_b, dtype = object)**2))\n",
        "\n",
        "    # Bias Correction\n",
        "    self.mW = (self.mW)*(1.0/(1-(self.BT1**self.t)))\n",
        "    self.vW = (self.vW)*(1.0/(1-(self.BT2**self.t)))\n",
        "    self.mB = (self.mB)*(1.0/(1-(self.BT1**self.t)))\n",
        "    self.vB = (self.vB)*(1.0/(1-(self.BT2**self.t)))\n",
        "\n",
        "    W = (1-self.lr*self.reg)*np.array(para['w'], dtype = object) - (self.lr/((self.vW + 1e-7)**0.5)) * self.mW\n",
        "    self.vW = self.vW.tolist()\n",
        "    self.mW = self.mW.tolist()\n",
        "\n",
        "    B = (1-self.lr*self.reg)*np.array(para['b'], dtype = object) - (self.lr/((self.vB + 1e-7)**0.5)) * self.mB\n",
        "    self.vB = self.vB.tolist()\n",
        "    self.mB = self.mB.tolist()\n",
        "\n",
        "    return W.tolist(), B.tolist() "
      ],
      "metadata": {
        "id": "6nFrgY5USwCp"
      },
      "execution_count": null,
      "outputs": []
    },
    {
      "cell_type": "markdown",
      "source": [
        "Training Model"
      ],
      "metadata": {
        "id": "C0lZkusRTkz6"
      }
    },
    {
      "cell_type": "code",
      "source": [
        "def train(X_train, Y_train,x_val, y_val, N_I_nodes, H_layer, N_O_nodes, init_type, epochs, batch_size, loss_T,act_T, optimizer_name, learning_rate, reg_lamda):\n",
        "  if optimizer_name=='sgd':\n",
        "    optimizer = SGD()\n",
        "  elif optimizer_name=='momentum':\n",
        "    optimizer = Momentum_GD()\n",
        "  elif optimizer_name=='rmsprop':\n",
        "    optimizer = RMSprop()\n",
        "  elif optimizer_name=='nesterov':\n",
        "    optimizer = Nesterov()\n",
        "  elif optimizer_name=='adam':\n",
        "    optimizer = Adam()    \n",
        "  \n",
        "\n",
        "  try:   \n",
        "    optimizer.act_T = act_T\n",
        "    optimizer.loss_T = loss_T\n",
        "  except:\n",
        "    pass\n",
        "\n",
        "  W, B = para_init(N_I_nodes,H_layer, N_O_nodes, init_type)\n",
        "  N = X_train.shape[0]\n",
        "  n_batches = int(np.floor(N/batch_size))\n",
        "  optimizer.lr = learning_rate\n",
        "  optimizer.reg = reg_lamda\n",
        "\n",
        "  for epoch in range(epochs):\n",
        "\n",
        "    train_loss = []\n",
        "    train_accuracy = []\n",
        "    val_loss = []\n",
        "    val_accuracy = []\n",
        "    l = 0\n",
        "    acc = 0\n",
        "    temp = 0\n",
        "    for batch in range(n_batches):\n",
        "      x = np.squeeze(X_train[batch*batch_size:batch_size+batch*batch_size]).T\n",
        "      y = one_hot_encode(Y_train[batch*batch_size:batch_size+batch*batch_size], 10)\n",
        "      Y_bar, h, a = feed_forward(x, W,B, act_T)\n",
        "      grad_w, grad_b, grad_h, grad_a = back_prop(x, y,Y_bar,a,h, W,B, batch_size, loss_T, act_T)\n",
        "      W,B = optimizer.update(W,B, grad_w,grad_b)\n",
        "      l += Loss(Y_train[batch*batch_size:batch_size+batch*batch_size],Y_bar, loss_T, W,reg_lamda)\n",
        "      acc += accuracy(Y_bar, Y_train[batch*batch_size:batch_size+batch*batch_size])\n",
        "\n",
        "    if N%batch_size != 0:\n",
        "        x = np.squeeze(X_train[-1*(N%batch_size):]).T\n",
        "        y = one_hot_encode(Y_train[-1*(N%batch_size):], 10)\n",
        "        Y_bar, h, a = feed_forward(x, W,B, act_T)\n",
        "        grad_w, grad_b, grad_h, grad_a = back_prop(x, y,Y_bar,a,h, W,B, N%batch_size, loss_T, act_T)\n",
        "        W,B = optimizer.update(W,B, grad_w,grad_b)\n",
        "        l += Loss(Y_train[-1*(N%batch_size):],Y_bar, loss_T, W,reg_lamda)\n",
        "        acc += accuracy(Y_bar, Y_train[-1*(N%batch_size):])\n",
        "        temp = 1\n",
        "\n",
        "    l = l/(n_batches + (N%batch_size))\n",
        "    acc = acc/(n_batches + temp)\n",
        "\n",
        "    train_loss.append(l)\n",
        "    train_accuracy.append(acc)\n",
        "    #print(f\"Epoch:{epoch+1}\")\n",
        "    #print(f\"Train Loss: {l}\")\n",
        "    #print(f\"Train Accuracy: {acc}\")\n",
        "\n",
        "    # Validation\n",
        "    if x_val.any():\n",
        "      y_val_hat, _,_ = feed_forward(np.squeeze(x_val).T, W,B, act_T)\n",
        "      val_acc = accuracy(y_val_hat,y_val)\n",
        "      val_l = Loss(y_val, y_val_hat, loss_T,W = None, reg_lamda = reg_lamda)\n",
        "      val_accuracy.append(val_acc)\n",
        "      val_loss.append(val_l)\n",
        "      #print(f\"Val Loss: {val_l}\")\n",
        "      #print(f\"Val Accuracy: {val_acc}\")\n",
        "\n",
        "    wandb.log({\"epoch\":epoch,\"Train_loss\":l,\"Train_acc\":acc,\"val_loss\":val_l,\"val_Accuracy\":val_acc})\n",
        "  return W,B, train_loss, train_accuracy, val_loss, val_accuracy"
      ],
      "metadata": {
        "id": "AHRPQST_TeaV"
      },
      "execution_count": null,
      "outputs": []
    },
    {
      "cell_type": "markdown",
      "source": [
        "Sweep configuration for Cross Entropy"
      ],
      "metadata": {
        "id": "R71Ryz-KUMgD"
      }
    },
    {
      "cell_type": "code",
      "source": [
        "sweep_configuration = {'method'    : \"random\",  \n",
        "                       'metric'    : {'name': 'val_Accuracy','goal':'maximize'},\n",
        "                       'parameters': {'epochs':{'values':[ 5, 10]},\n",
        "                                      'H_layer':{'values':[[64,32],[64,32,16],[128,64,32],[128,64,32,16],[128,32,32,16]] },\n",
        "                                      'learning_rate':{'values':[1e-3,1e-4]},\n",
        "                                      'W_decay':{'values':[0, 0.0005, 0.5]},\n",
        "                                      'optimizer_name': {'values':['sgd', 'momentum', 'rmsprop', 'nesterov','adam']}, \n",
        "                                      'batch_size':{'values':[16,32,64]},\n",
        "                                      'init_type': {'values':['random','xavier']},\n",
        "                                      'act_T':{'values':['sigmoid','tanh','ReLU']},\n",
        "                                      'loss_T': {'values':['cross_entropy']} }}"
      ],
      "metadata": {
        "id": "J7tXommeT7j7"
      },
      "execution_count": null,
      "outputs": []
    },
    {
      "cell_type": "code",
      "source": [
        "def sweep_train_cross():\n",
        "\n",
        "  hyperparameters=dict(epochs = 5,\n",
        "                      H_layer= [64,32],\n",
        "                      learning_rate=1e-4,\n",
        "                      W_decay=0,\n",
        "                      optimizer_name='sgd',\n",
        "                      batch_size=16,\n",
        "                      init_type='random',\n",
        "                      act_T='sigmoid',\n",
        "                      loss_T='cross_entropy',\n",
        "                      reg_lamda=0)\n",
        "                           \n",
        "  wandb.init(project=\"CS6910-Assignment-1\", entity=\"rounit57\",config=hyperparameters)\n",
        "  config=wandb.config\n",
        "  epochs=config.epochs\n",
        "  H_layer=config.H_layer\n",
        "  learning_rate=config.learning_rate\n",
        "  W_decay=config.W_decay\n",
        "  optimizer_name=config.optimizer_name\n",
        "  batch_size=config.batch_size\n",
        "  init_type=config.init_type\n",
        "  act_T=config.act_T\n",
        "  loss_T=config.loss_T\n",
        "  reg_lamda=config.reg_lamda  \n",
        "  wandb.run.name = \"e_{}_hl_{}_lr_{}_wd_{}_o_{}_bs_{}_winit_{}_ac_{}_los_{}_r_{}\".format(epochs,\\\n",
        "                                                                                    H_layer,\\\n",
        "                                                                                    learning_rate,\\\n",
        "                                                                                    W_decay,\\\n",
        "                                                                                    optimizer_name,\\\n",
        "                                                                                    batch_size,\\\n",
        "                                                                                    init_type,\\\n",
        "                                                                                    act_T,\\\n",
        "                                                                                    loss_T,\\\n",
        "                                                                                    reg_lamda)\n",
        "  \n",
        "  _,_,train_loss, train_accuracy, val_loss, val_accuracy = train(X_train, Y_train, X_val, pix_size , H_layer, no_of_class, init_type, epochs, batch_size, loss_T, act_T, optimizer_name, learning_rate, reg_lamda)"
      ],
      "metadata": {
        "id": "EhEZlgHHUFVq"
      },
      "execution_count": null,
      "outputs": []
    },
    {
      "cell_type": "code",
      "source": [
        "sweep_id = wandb.sweep(sweep_configuration,project='CS6910-Assignment-1')\n",
        "wandb.agent(sweep_id,function=sweep_train_cross,project='CS6910-Assignment-1',count=50)"
      ],
      "metadata": {
        "id": "O7tTqvxJUaEo"
      },
      "execution_count": null,
      "outputs": []
    },
    {
      "cell_type": "markdown",
      "source": [
        "Sweep configuration for Mean Square Error"
      ],
      "metadata": {
        "id": "vwBHYwkvUdYg"
      }
    },
    {
      "cell_type": "code",
      "source": [
        "sweep_configuration = {'method'    : \"random\", \n",
        "                       'metric'    : {'name': 'val_Accuracy','goal':'maximize'},\n",
        "                       'parameters': {'epochs':{'values':[ 5, 10]},\n",
        "                                      'H_layer':{'values':[[64,32],[64,32,16],[128,64,32],[128,64,32,16],[128,32,32,16]] }, #change needed\n",
        "                                      'learning_rate':{'values':[1e-3,1e-4]},\n",
        "                                      'W_decay':{'values':[0, 0.0005, 0.5]},\n",
        "                                      'optimizer_name': {'values':['sgd', 'momentum', 'rmsprop', 'nesterov','adam']}, #, 'nesterov','adam', 'nadam'\n",
        "                                      'batch_size':{'values':[16,32,64]},\n",
        "                                      'init_type': {'values':['random','xavier']},\n",
        "                                      'act_T':{'values':['sigmoid','tanh','ReLU']},\n",
        "                                      'loss_T': {'values':['squared_error']} }}"
      ],
      "metadata": {
        "id": "k8bMuaUOUcy8"
      },
      "execution_count": null,
      "outputs": []
    },
    {
      "cell_type": "code",
      "source": [
        "def sweep_train_MSE():\n",
        "\n",
        "  hyperparameters=dict(epochs = 5,\n",
        "                      H_layer= [64,32],\n",
        "                      learning_rate=1e-4,\n",
        "                      W_decay=0,\n",
        "                      optimizer_name='sgd',\n",
        "                      batch_size=16,\n",
        "                      init_type='random',\n",
        "                      act_T='sigmoid',\n",
        "                      loss_T='squared_error',\n",
        "                      reg_lamda=0)\n",
        "                           \n",
        "  wandb.init(project=\"CS6910-Assignment-1\", entity=\"rounit57\",config=hyperparameters)\n",
        "  config=wandb.config\n",
        "  epochs=config.epochs\n",
        "  H_layer=config.H_layer\n",
        "  learning_rate=config.learning_rate\n",
        "  W_decay=config.W_decay\n",
        "  optimizer_name=config.optimizer_name\n",
        "  batch_size=config.batch_size\n",
        "  init_type=config.init_type\n",
        "  act_T=config.act_T\n",
        "  loss_T=config.loss_T\n",
        "  reg_lamda=config.reg_lamda  \n",
        "  wandb.run.name = \"e_{}_hl_{}_lr_{}_wd_{}_o_{}_bs_{}_winit_{}_ac_{}_los_{}_r_{}\".format(epochs,\\\n",
        "                                                                                    H_layer,\\\n",
        "                                                                                    learning_rate,\\\n",
        "                                                                                    W_decay,\\\n",
        "                                                                                    optimizer_name,\\\n",
        "                                                                                    batch_size,\\\n",
        "                                                                                    init_type,\\\n",
        "                                                                                    act_T,\\\n",
        "                                                                                    loss_T,\\\n",
        "                                                                                    reg_lamda)\n",
        "  \n",
        "  _,_,train_loss, train_accuracy, val_loss, val_accuracy = train(X_train, Y_train, X_val, Y_val, pix_size , H_layer, no_of_class, init_type, epochs, batch_size, loss_T, act_T, optimizer_name, learning_rate, reg_lamda)"
      ],
      "metadata": {
        "id": "tQxHQwx9UcsX"
      },
      "execution_count": null,
      "outputs": []
    },
    {
      "cell_type": "code",
      "source": [
        "sweep_id = wandb.sweep(sweep_configuration,project='CS6910-Assignment-1')\n",
        "wandb.agent(sweep_id,function=sweep_train_MSE,project='CS6910-Assignment-1',count=50)"
      ],
      "metadata": {
        "id": "JYLu1XMaUchy"
      },
      "execution_count": null,
      "outputs": []
    },
    {
      "cell_type": "markdown",
      "source": [
        "Q7"
      ],
      "metadata": {
        "id": "OkWujGjmNVuf"
      }
    },
    {
      "cell_type": "code",
      "source": [
        "wandb.init(project=\"Assignment-01Q8\", entity=\"rounit57\")"
      ],
      "metadata": {
        "id": "N3ToTPEToA0A"
      },
      "execution_count": null,
      "outputs": []
    },
    {
      "cell_type": "code",
      "source": [
        "W_new, B_new, _,_,_,_ = train(X_train, Y_train, X_val, Y_val, pix_size, [128,64,32], 10 , \"xavier\", 10, 64, \"cross_entropy\", \"ReLU\", 'rmsprop',0.001, 0.5)\n",
        "Y1, _, _ = feed_forward(np.squeeze(X_val).T, W_new, B_new, \"ReLU\")\n",
        "\n",
        "Y_prediction = np.argmax(Y1, axis = 0)\n",
        "\n",
        " \n",
        "print(Y_train.shape) \n",
        "\n",
        "labels_dict_names =  [\"T-shirt/top\",\"Trouser\",\"Pullover\",\"Dress\",\"Coat\",\"Sandal\",\"Shirt\",\"Sneaker\",\"Bag\",\"Ankle boot\"]\n",
        "\n",
        "\n",
        "Y_prediction=np.empty(np.shape(Y_train))\n",
        "\n",
        "# print(len(Y_prediction))\n",
        "for i in range(len(Y_prediction)):\n",
        "  Y_prediction[i]=np.argmax(Y1[:,i])\n",
        "\n",
        "wandb.log({\"Confusion matrix\": wandb.plot.confusion_matrix(probs=None,y_true=Y_val,preds=Y_prediction,class_names=labels_dict_names)})\n"
      ],
      "metadata": {
        "id": "axIhp6iPU-fa"
      },
      "execution_count": null,
      "outputs": []
    },
    {
      "cell_type": "markdown",
      "source": [
        "Swwep for Question- 8"
      ],
      "metadata": {
        "id": "jdyXaIgCLhc_"
      }
    },
    {
      "cell_type": "code",
      "source": [
        "sweep_configuration = {'method'    : \"random\",  \n",
        "                       'metric'    : {'name': 'val_Accuracy','goal':'maximize'},\n",
        "                       'parameters': {'epochs':{'values':[ 5]},\n",
        "                                      'H_layer':{'values':[64,32]},\n",
        "                                      'learning_rate':{'values':[1e-2]},\n",
        "                                      'W_decay':{'values':[0.0005]},\n",
        "                                      'optimizer_name': {'values':['sgd']},\n",
        "                                      'batch_size':{'values':[32]},\n",
        "                                      'init_type': {'values':['xavier']},\n",
        "                                      'act_T':{'values':['sigmoid']},\n",
        "                                      'loss_T': {'values':['squared_error','cross_entropy']} }}"
      ],
      "metadata": {
        "id": "yS832X2rU-Uf"
      },
      "execution_count": null,
      "outputs": []
    },
    {
      "cell_type": "code",
      "source": [
        "def sweep_train():\n",
        "\n",
        "  hyperparameters=dict(epochs = 5,\n",
        "                      H_layer= [64,32],\n",
        "                      learning_rate=1e-4,\n",
        "                      W_decay=0,\n",
        "                      optimizer_name='sgd',\n",
        "                      batch_size=16,\n",
        "                      init_type='random',\n",
        "                      act_T='sigmoid',\n",
        "                      loss_T='squared_error',\n",
        "                      reg_lamda=0)\n",
        "                           \n",
        "  wandb.init(project=\"CS6910-Assignment-1\", entity=\"rounit57\",config=hyperparameters)\n",
        "  config=wandb.config\n",
        "  epochs=config.epochs\n",
        "  H_layer=config.H_layer\n",
        "  learning_rate=config.learning_rate\n",
        "  W_decay=config.W_decay\n",
        "  optimizer_name=config.optimizer_name\n",
        "  batch_size=config.batch_size\n",
        "  init_type=config.init_type\n",
        "  act_T=config.act_T\n",
        "  loss_T=config.loss_T\n",
        "  reg_lamda=config.reg_lamda  \n",
        "  wandb.run.name = \"e_{}_hl_{}_lr_{}_wd_{}_o_{}_bs_{}_winit_{}_ac_{}_los_{}_r_{}\".format(epochs,\\\n",
        "                                                                                    H_layer,\\\n",
        "                                                                                    learning_rate,\\\n",
        "                                                                                    W_decay,\\\n",
        "                                                                                    optimizer_name,\\\n",
        "                                                                                    batch_size,\\\n",
        "                                                                                    init_type,\\\n",
        "                                                                                    act_T,\\\n",
        "                                                                                    loss_T,\\\n",
        "                                                                                    reg_lamda)\n",
        "  \n",
        "  _,_,train_loss, train_accuracy, val_loss, val_accuracy = train(X_train, Y_train, X_val, Y_val, pix_size , H_layer, no_of_class, init_type, epochs, batch_size, loss_T, act_T, optimizer_name, learning_rate, reg_lamda)"
      ],
      "metadata": {
        "id": "YCmo7k6vU-F2"
      },
      "execution_count": null,
      "outputs": []
    },
    {
      "cell_type": "code",
      "source": [
        "from signal import signal, SIGPIPE, SIG_DFL\n",
        "signal(SIGPIPE,SIG_DFL)"
      ],
      "metadata": {
        "colab": {
          "base_uri": "https://localhost:8080/"
        },
        "id": "9PhJp8orN4cX",
        "outputId": "5a80bd3c-9f57-49f0-e90f-818be3097cd4"
      },
      "execution_count": null,
      "outputs": [
        {
          "output_type": "execute_result",
          "data": {
            "text/plain": [
              "<Handlers.SIG_IGN: 1>"
            ]
          },
          "metadata": {},
          "execution_count": 20
        }
      ]
    },
    {
      "cell_type": "code",
      "source": [
        "sweep_id = wandb.sweep(sweep_configuration,project='Assignment-01Q8')\n",
        "wandb.agent(sweep_id,function=sweep_train,project='Assignment-01Q8',count=2)"
      ],
      "metadata": {
        "id": "deaRuM8_Na04"
      },
      "execution_count": null,
      "outputs": []
    },
    {
      "cell_type": "markdown",
      "source": [
        "Question 10"
      ],
      "metadata": {
        "id": "ByHjB7ImsgcI"
      }
    },
    {
      "cell_type": "code",
      "source": [
        "wandb.init(project=\"Assignment-01Q10\")"
      ],
      "metadata": {
        "id": "0RXQaFPss-E9"
      },
      "execution_count": null,
      "outputs": []
    },
    {
      "cell_type": "code",
      "source": [
        "epochs=10\n",
        "H_layer=[128,32,32,16]\n",
        "learning_rate=0.001\n",
        "W_decay=0.0005\n",
        "optimizer_name='rmsprop'\n",
        "batch_size=64\n",
        "init_type='xavier'\n",
        "act_T='ReLU'\n",
        "loss_T='cross_entropy'\n",
        "reg_lamda=0.0005 \n",
        "wandb.run.name = \"e_{}_hl_{}_lr_{}_wd_{}_o_{}_bs_{}_winit_{}_ac_{}_los_{}_r_{}\".format(epochs,\\\n",
        "                                                                                    H_layer,\\\n",
        "                                                                                    learning_rate,\\\n",
        "                                                                                    W_decay,\\\n",
        "                                                                                    optimizer_name,\\\n",
        "                                                                                    batch_size,\\\n",
        "                                                                                    init_type,\\\n",
        "                                                                                    act_T,\\\n",
        "                                                                                    loss_T,\\\n",
        "                                                                                    reg_lamda)\n",
        "  \n",
        "_,_,train_loss, train_accuracy, val_loss, val_accuracy = train(X_train, Y_train, X_val, Y_val, 784, H_layer, 10, init_type, epochs, batch_size, loss_T, act_T, optimizer_name, learning_rate, reg_lamda)\n"
      ],
      "metadata": {
        "id": "8BOnUp5osfA1"
      },
      "execution_count": null,
      "outputs": []
    },
    {
      "cell_type": "code",
      "source": [
        "wandb.init(project=\"mnist-trial\")"
      ],
      "metadata": {
        "id": "9oR2vF64Nrj3"
      },
      "execution_count": null,
      "outputs": []
    },
    {
      "cell_type": "code",
      "source": [
        "epochs=10\n",
        "H_layer=[128,64,32]\n",
        "learning_rate=0.001\n",
        "W_decay=0.5\n",
        "optimizer_name='rmsprop'\n",
        "batch_size=64\n",
        "init_type='xavier'\n",
        "act_T='ReLU'\n",
        "loss_T='cross_entropy'\n",
        "reg_lamda=0.5\n",
        "wandb.run.name = \"e_{}_hl_{}_lr_{}_wd_{}_o_{}_bs_{}_winit_{}_ac_{}_los_{}_r_{}\".format(epochs,\\\n",
        "                                                                                    H_layer,\\\n",
        "                                                                                    learning_rate,\\\n",
        "                                                                                    W_decay,\\\n",
        "                                                                                    optimizer_name,\\\n",
        "                                                                                    batch_size,\\\n",
        "                                                                                    init_type,\\\n",
        "                                                                                    act_T,\\\n",
        "                                                                                    loss_T,\\\n",
        "                                                                                    reg_lamda)\n",
        "  \n",
        "_,_,train_loss, train_accuracy, val_loss, val_accuracy = train(X_train, Y_train, X_val, Y_val, 784, H_layer, 10, init_type, epochs, batch_size, loss_T, act_T, optimizer_name, learning_rate, reg_lamda)\n"
      ],
      "metadata": {
        "id": "bSazwhPrstH8"
      },
      "execution_count": null,
      "outputs": []
    },
    {
      "cell_type": "code",
      "source": [
        "wandb.init(project=\"mnist-trial\")"
      ],
      "metadata": {
        "id": "w1KOLuKqss_j"
      },
      "execution_count": null,
      "outputs": []
    },
    {
      "cell_type": "code",
      "source": [
        "epochs=10\n",
        "H_layer=[128,64,32]\n",
        "learning_rate=0.001\n",
        "W_decay=0.5\n",
        "optimizer_name='rmsprop'\n",
        "batch_size=16\n",
        "init_type='random'\n",
        "act_T='ReLU'\n",
        "loss_T='cross_entropy'\n",
        "reg_lamda=0.5\n",
        "wandb.run.name = \"e_{}_hl_{}_lr_{}_wd_{}_o_{}_bs_{}_winit_{}_ac_{}_los_{}_r_{}\".format(epochs,\\\n",
        "                                                                                    H_layer,\\\n",
        "                                                                                    learning_rate,\\\n",
        "                                                                                    W_decay,\\\n",
        "                                                                                    optimizer_name,\\\n",
        "                                                                                    batch_size,\\\n",
        "                                                                                    init_type,\\\n",
        "                                                                                    act_T,\\\n",
        "                                                                                    loss_T,\\\n",
        "                                                                                    reg_lamda)\n",
        "  \n",
        "_,_,train_loss, train_accuracy, val_loss, val_accuracy = train(X_train, Y_train, X_val, Y_val, 784, H_layer, 10, init_type, epochs, batch_size, loss_T, act_T, optimizer_name, learning_rate, reg_lamda)"
      ],
      "metadata": {
        "id": "lx7ntQnbss0v"
      },
      "execution_count": null,
      "outputs": []
    },
    {
      "cell_type": "code",
      "source": [],
      "metadata": {
        "id": "offMFPuAsskt"
      },
      "execution_count": null,
      "outputs": []
    }
  ]
}