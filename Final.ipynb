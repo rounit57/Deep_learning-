{
  "nbformat": 4,
  "nbformat_minor": 0,
  "metadata": {
    "colab": {
      "provenance": [],
      "authorship_tag": "ABX9TyPq2eopfMwWDvtEAK3m3Htd",
      "include_colab_link": true
    },
    "kernelspec": {
      "name": "python3",
      "display_name": "Python 3"
    },
    "language_info": {
      "name": "python"
    },
    "gpuClass": "standard"
  },
  "cells": [
    {
      "cell_type": "markdown",
      "metadata": {
        "id": "view-in-github",
        "colab_type": "text"
      },
      "source": [
        "<a href=\"https://colab.research.google.com/github/rounit57/Deep_learning-/blob/main/Final.ipynb\" target=\"_parent\"><img src=\"https://colab.research.google.com/assets/colab-badge.svg\" alt=\"Open In Colab\"/></a>"
      ]
    },
    {
      "cell_type": "code",
      "source": [
        "from signal import signal, SIGPIPE, SIG_DFL\n",
        "signal(SIGPIPE,SIG_DFL)"
      ],
      "metadata": {
        "colab": {
          "base_uri": "https://localhost:8080/"
        },
        "id": "Bliv2JrIOrkG",
        "outputId": "f3c2e151-a1db-4119-f58a-dac97ec0d79b"
      },
      "execution_count": null,
      "outputs": [
        {
          "output_type": "execute_result",
          "data": {
            "text/plain": [
              "<Handlers.SIG_IGN: 1>"
            ]
          },
          "metadata": {},
          "execution_count": 1
        }
      ]
    },
    {
      "cell_type": "code",
      "execution_count": null,
      "metadata": {
        "colab": {
          "base_uri": "https://localhost:8080/"
        },
        "id": "YysA-NFkwjyJ",
        "outputId": "ecb1f5d0-52ce-4eb5-be9a-9fdc423b79b2"
      },
      "outputs": [
        {
          "output_type": "stream",
          "name": "stdout",
          "text": [
            "Looking in indexes: https://pypi.org/simple, https://us-python.pkg.dev/colab-wheels/public/simple/\n",
            "Collecting wandb\n",
            "  Downloading wandb-0.14.0-py3-none-any.whl (2.0 MB)\n",
            "\u001b[2K     \u001b[90m━━━━━━━━━━━━━━━━━━━━━━━━━━━━━━━━━━━━━━━━\u001b[0m \u001b[32m2.0/2.0 MB\u001b[0m \u001b[31m29.7 MB/s\u001b[0m eta \u001b[36m0:00:00\u001b[0m\n",
            "\u001b[?25hRequirement already satisfied: psutil>=5.0.0 in /usr/local/lib/python3.9/dist-packages (from wandb) (5.9.4)\n",
            "Collecting docker-pycreds>=0.4.0\n",
            "  Downloading docker_pycreds-0.4.0-py2.py3-none-any.whl (9.0 kB)\n",
            "Requirement already satisfied: protobuf!=4.21.0,<5,>=3.15.0 in /usr/local/lib/python3.9/dist-packages (from wandb) (3.19.6)\n",
            "Requirement already satisfied: PyYAML in /usr/local/lib/python3.9/dist-packages (from wandb) (6.0)\n",
            "Collecting appdirs>=1.4.3\n",
            "  Downloading appdirs-1.4.4-py2.py3-none-any.whl (9.6 kB)\n",
            "Requirement already satisfied: typing-extensions in /usr/local/lib/python3.9/dist-packages (from wandb) (4.5.0)\n",
            "Collecting GitPython!=3.1.29,>=1.0.0\n",
            "  Downloading GitPython-3.1.31-py3-none-any.whl (184 kB)\n",
            "\u001b[2K     \u001b[90m━━━━━━━━━━━━━━━━━━━━━━━━━━━━━━━━━━━━━━\u001b[0m \u001b[32m184.3/184.3 KB\u001b[0m \u001b[31m12.6 MB/s\u001b[0m eta \u001b[36m0:00:00\u001b[0m\n",
            "\u001b[?25hCollecting pathtools\n",
            "  Downloading pathtools-0.1.2.tar.gz (11 kB)\n",
            "  Preparing metadata (setup.py) ... \u001b[?25l\u001b[?25hdone\n",
            "Collecting sentry-sdk>=1.0.0\n",
            "  Downloading sentry_sdk-1.17.0-py2.py3-none-any.whl (189 kB)\n",
            "\u001b[2K     \u001b[90m━━━━━━━━━━━━━━━━━━━━━━━━━━━━━━━━━━━━━━\u001b[0m \u001b[32m189.1/189.1 KB\u001b[0m \u001b[31m13.3 MB/s\u001b[0m eta \u001b[36m0:00:00\u001b[0m\n",
            "\u001b[?25hRequirement already satisfied: requests<3,>=2.0.0 in /usr/local/lib/python3.9/dist-packages (from wandb) (2.27.1)\n",
            "Requirement already satisfied: Click!=8.0.0,>=7.0 in /usr/local/lib/python3.9/dist-packages (from wandb) (8.1.3)\n",
            "Collecting setproctitle\n",
            "  Downloading setproctitle-1.3.2-cp39-cp39-manylinux_2_5_x86_64.manylinux1_x86_64.manylinux_2_17_x86_64.manylinux2014_x86_64.whl (30 kB)\n",
            "Requirement already satisfied: setuptools in /usr/local/lib/python3.9/dist-packages (from wandb) (63.4.3)\n",
            "Requirement already satisfied: six>=1.4.0 in /usr/local/lib/python3.9/dist-packages (from docker-pycreds>=0.4.0->wandb) (1.15.0)\n",
            "Collecting gitdb<5,>=4.0.1\n",
            "  Downloading gitdb-4.0.10-py3-none-any.whl (62 kB)\n",
            "\u001b[2K     \u001b[90m━━━━━━━━━━━━━━━━━━━━━━━━━━━━━━━━━━━━━━━━\u001b[0m \u001b[32m62.7/62.7 KB\u001b[0m \u001b[31m4.1 MB/s\u001b[0m eta \u001b[36m0:00:00\u001b[0m\n",
            "\u001b[?25hRequirement already satisfied: charset-normalizer~=2.0.0 in /usr/local/lib/python3.9/dist-packages (from requests<3,>=2.0.0->wandb) (2.0.12)\n",
            "Requirement already satisfied: idna<4,>=2.5 in /usr/local/lib/python3.9/dist-packages (from requests<3,>=2.0.0->wandb) (3.4)\n",
            "Requirement already satisfied: urllib3<1.27,>=1.21.1 in /usr/local/lib/python3.9/dist-packages (from requests<3,>=2.0.0->wandb) (1.26.15)\n",
            "Requirement already satisfied: certifi>=2017.4.17 in /usr/local/lib/python3.9/dist-packages (from requests<3,>=2.0.0->wandb) (2022.12.7)\n",
            "Collecting smmap<6,>=3.0.1\n",
            "  Downloading smmap-5.0.0-py3-none-any.whl (24 kB)\n",
            "Building wheels for collected packages: pathtools\n",
            "  Building wheel for pathtools (setup.py) ... \u001b[?25l\u001b[?25hdone\n",
            "  Created wheel for pathtools: filename=pathtools-0.1.2-py3-none-any.whl size=8807 sha256=12dc5f7dc6cd1aa5d224e32c9ee34e6ba5e0ffa3cf2506e67d99edc732e3d600\n",
            "  Stored in directory: /root/.cache/pip/wheels/b7/0a/67/ada2a22079218c75a88361c0782855cc72aebc4d18d0289d05\n",
            "Successfully built pathtools\n",
            "Installing collected packages: pathtools, appdirs, smmap, setproctitle, sentry-sdk, docker-pycreds, gitdb, GitPython, wandb\n",
            "Successfully installed GitPython-3.1.31 appdirs-1.4.4 docker-pycreds-0.4.0 gitdb-4.0.10 pathtools-0.1.2 sentry-sdk-1.17.0 setproctitle-1.3.2 smmap-5.0.0 wandb-0.14.0\n",
            "\u001b[34m\u001b[1mwandb\u001b[0m: Logging into wandb.ai. (Learn how to deploy a W&B server locally: https://wandb.me/wandb-server)\n",
            "\u001b[34m\u001b[1mwandb\u001b[0m: You can find your API key in your browser here: https://wandb.ai/authorize\n",
            "\u001b[34m\u001b[1mwandb\u001b[0m: Paste an API key from your profile and hit enter, or press ctrl+c to quit: \n",
            "\u001b[34m\u001b[1mwandb\u001b[0m: Appending key for api.wandb.ai to your netrc file: /root/.netrc\n"
          ]
        }
      ],
      "source": [
        "!pip install wandb\n",
        "!wandb login"
      ]
    },
    {
      "cell_type": "code",
      "source": [
        "import numpy as np\n",
        "from numpy import expand_dims\n",
        "import matplotlib.pyplot as plt\n",
        "import tensorflow as tf\n",
        "from sklearn.model_selection import train_test_split\n",
        "import random\n",
        "import pprint\n",
        "import wandb\n",
        "from sklearn.metrics import precision_recall_curve, roc_curve, confusion_matrix\n"
      ],
      "metadata": {
        "id": "C98dvoGRws6g"
      },
      "execution_count": null,
      "outputs": []
    },
    {
      "cell_type": "code",
      "source": [
        "wandb.init(project=\"cs6910_Ass_01_Q1\", entity=\"rounit57\")"
      ],
      "metadata": {
        "colab": {
          "base_uri": "https://localhost:8080/",
          "height": 142
        },
        "id": "0nL0I3FzxjKr",
        "outputId": "5b497603-a9c0-496a-eea7-9b666e3ef166"
      },
      "execution_count": null,
      "outputs": [
        {
          "output_type": "stream",
          "name": "stderr",
          "text": [
            "\u001b[34m\u001b[1mwandb\u001b[0m: Currently logged in as: \u001b[33mrounit57\u001b[0m. Use \u001b[1m`wandb login --relogin`\u001b[0m to force relogin\n"
          ]
        },
        {
          "output_type": "display_data",
          "data": {
            "text/plain": [
              "<IPython.core.display.HTML object>"
            ],
            "text/html": [
              "Tracking run with wandb version 0.14.0"
            ]
          },
          "metadata": {}
        },
        {
          "output_type": "display_data",
          "data": {
            "text/plain": [
              "<IPython.core.display.HTML object>"
            ],
            "text/html": [
              "Run data is saved locally in <code>/content/wandb/run-20230318_062648-dn7t0vkj</code>"
            ]
          },
          "metadata": {}
        },
        {
          "output_type": "display_data",
          "data": {
            "text/plain": [
              "<IPython.core.display.HTML object>"
            ],
            "text/html": [
              "Syncing run <strong><a href='https://wandb.ai/rounit57/cs6910_Ass_01_Q1/runs/dn7t0vkj' target=\"_blank\">helpful-darkness-1</a></strong> to <a href='https://wandb.ai/rounit57/cs6910_Ass_01_Q1' target=\"_blank\">Weights & Biases</a> (<a href='https://wandb.me/run' target=\"_blank\">docs</a>)<br/>"
            ]
          },
          "metadata": {}
        },
        {
          "output_type": "display_data",
          "data": {
            "text/plain": [
              "<IPython.core.display.HTML object>"
            ],
            "text/html": [
              " View project at <a href='https://wandb.ai/rounit57/cs6910_Ass_01_Q1' target=\"_blank\">https://wandb.ai/rounit57/cs6910_Ass_01_Q1</a>"
            ]
          },
          "metadata": {}
        },
        {
          "output_type": "display_data",
          "data": {
            "text/plain": [
              "<IPython.core.display.HTML object>"
            ],
            "text/html": [
              " View run at <a href='https://wandb.ai/rounit57/cs6910_Ass_01_Q1/runs/dn7t0vkj' target=\"_blank\">https://wandb.ai/rounit57/cs6910_Ass_01_Q1/runs/dn7t0vkj</a>"
            ]
          },
          "metadata": {}
        },
        {
          "output_type": "execute_result",
          "data": {
            "text/html": [
              "<button onClick=\"this.nextSibling.style.display='block';this.style.display='none';\">Display W&B run</button><iframe src='https://wandb.ai/rounit57/cs6910_Ass_01_Q1/runs/dn7t0vkj?jupyter=true' style='border:none;width:100%;height:420px;display:none;'></iframe>"
            ],
            "text/plain": [
              "<wandb.sdk.wandb_run.Run at 0x7f96c7ec4fd0>"
            ]
          },
          "metadata": {},
          "execution_count": 4
        }
      ]
    },
    {
      "cell_type": "markdown",
      "source": [
        "Load Data"
      ],
      "metadata": {
        "id": "Do2IeeT1zA0n"
      }
    },
    {
      "cell_type": "code",
      "source": [
        "imagedata=tf.keras.datasets.fashion_mnist\n",
        "(X,Y), (X_test,Y_test)=imagedata.load_data()\n",
        "X_train,X_val,Y_train,Y_val=train_test_split(X,Y,test_size=0.1,random_state = 43)\n",
        "\n",
        "no_of_class=len(np.unique(Y))\n",
        "pix_size = X.shape[1]*X.shape[2]\n",
        "\n",
        "X_train = (X_train.reshape(X_train.shape[0],-1).T)/255.0\n",
        "X_val = (X_val.reshape(X_val.shape[0],-1).T)/255.0\n",
        "X_test = (X_test.reshape(X_test.shape[0],-1).T)/255.0\n",
        "\n",
        "# Y_train = one_hot_encode(Y_train).T\n",
        "# Y_val = onr_hot_encode(Y_val).T\n",
        "# Y_test = one_hot_encode(Y_test).T\n",
        "\n",
        "\n",
        "\n",
        "# print(X_train.shape)\n",
        "# print(X_test.shape)\n",
        "# print(X_val.shape)\n",
        "# print(Y_train.shape)\n",
        "# print(Y_test.shape)\n"
      ],
      "metadata": {
        "colab": {
          "base_uri": "https://localhost:8080/"
        },
        "id": "Of-SEUd1xxPL",
        "outputId": "c960828d-52fc-4d73-8aab-cd3c9703f6dc"
      },
      "execution_count": null,
      "outputs": [
        {
          "output_type": "stream",
          "name": "stdout",
          "text": [
            "Downloading data from https://storage.googleapis.com/tensorflow/tf-keras-datasets/train-labels-idx1-ubyte.gz\n",
            "29515/29515 [==============================] - 0s 0us/step\n",
            "Downloading data from https://storage.googleapis.com/tensorflow/tf-keras-datasets/train-images-idx3-ubyte.gz\n",
            "26421880/26421880 [==============================] - 1s 0us/step\n",
            "Downloading data from https://storage.googleapis.com/tensorflow/tf-keras-datasets/t10k-labels-idx1-ubyte.gz\n",
            "5148/5148 [==============================] - 0s 0us/step\n",
            "Downloading data from https://storage.googleapis.com/tensorflow/tf-keras-datasets/t10k-images-idx3-ubyte.gz\n",
            "4422102/4422102 [==============================] - 0s 0us/step\n"
          ]
        }
      ]
    },
    {
      "cell_type": "code",
      "source": [
        "label= {0:'T-shirt/top', 1:'Trouser', 2:'Pullover', 3:'Dress', 4:'Coat', 5:'Sandal', 6:'Shirt', 7:'Sneaker', 8:'Bag', 9:'Ankle boot' }\n",
        "\n",
        "rows = 2\n",
        "columns = 5\n",
        "no_class = 10\n",
        "y=list(Y_train)\n",
        "for i in range(no_class):\n",
        "     \n",
        "    sample=y.index(i)\n",
        "    image = X[sample]\n",
        "    plt.subplot(rows, columns,i+1)\n",
        "    # wandb.log({\"images\": [wandb.Image(image,caption=label[i])]})\n",
        "    plt.imshow(image, cmap='gray')\n",
        "    plt.axis('off')\n",
        "    plt.title(label[i])\n",
        "wandb.log({\"image\": plt})"
      ],
      "metadata": {
        "colab": {
          "base_uri": "https://localhost:8080/",
          "height": 223
        },
        "id": "n0plkiQixs01",
        "outputId": "6b454dcb-dbe8-4523-d75c-fb31f101a0d7"
      },
      "execution_count": null,
      "outputs": [
        {
          "output_type": "display_data",
          "data": {
            "text/plain": [
              "<Figure size 432x288 with 10 Axes>"
            ],
            "image/png": "[encoded data removed]"
          },
          "metadata": {
            "needs_background": "light"
          }
        }
      ]
    },
    {
      "cell_type": "code",
      "source": [
        "def one_hot_encode(x):\n",
        "    y = np.zeros((x.size, x.max()+1))\n",
        "    y[np.arange(x.size),x] = 1\n",
        "    return y"
      ],
      "metadata": {
        "id": "waOHLZCMyO3l"
      },
      "execution_count": null,
      "outputs": []
    },
    {
      "cell_type": "code",
      "source": [
        "\n",
        "# Random initialization\n",
        "def initialize_weights_random(N, weight_factor):\n",
        "  np.random.seed(0)\n",
        "  W = []\n",
        "  b = []\n",
        "  W.append(0)\n",
        "  b.append(0)\n",
        "  for i in range(1,l+1):\n",
        "    W.append((np.random.randn(N[i],N[i-1]))*weight_factor)\n",
        "    b.append(np.zeros((N[i],1)))\n",
        "  return W,b \n",
        "\n",
        "# Xavier initialization \n",
        "def initialize_weights_xavier(N, weight_factor):\n",
        "  \n",
        "  W = []\n",
        "  b = []\n",
        "  W.append(0)\n",
        "  b.append(0)\n",
        "  for i in range(1,l+1):\n",
        "    values = np.random.randn(N[i],N[i-1])*np.sqrt(2/(N[i]+N[i-1]))\n",
        "    W.append(np.array(values)*weight_factor)\n",
        "    b.append(np.zeros((N[i],1)))\n",
        "  return W,b \n",
        "\n",
        "# Choosing initialization function\n",
        "def initialize_weights(N,init, act):\n",
        "  if act =='relu':\n",
        "    weight_factor = 10**-2\n",
        "  else:\n",
        "    weight_factor = 1\n",
        "  if init=='random':\n",
        "    return initialize_weights_random(N, weight_factor)\n",
        "  if init=='xavier':\n",
        "    return initialize_weights_xavier(N, weight_factor)"
      ],
      "metadata": {
        "id": "QupVaYMkx0ro"
      },
      "execution_count": null,
      "outputs": []
    },
    {
      "cell_type": "code",
      "source": [
        "def sigmoid(z):\n",
        "  return 1/(1+(np.exp(-z)))\n",
        "\n",
        "\n",
        "def softmax(z):\n",
        "  return np.exp(z) / np.sum(np.exp(z))\n",
        "\n",
        "\n",
        "def relu(z):\n",
        "  return np.maximum(0,z)\n",
        "\n",
        "        \n",
        "def tanh_fun(z):\n",
        "  return (np.exp(z) - np.exp(-z)) / (np.exp(z) + np.exp(-z)) \n",
        "\n",
        "\n",
        "def sigmoid_diff(z):\n",
        "  sig = 1 / (1 + np.exp(-z))\n",
        "  return sig*(1-sig)\n",
        "\n",
        "# def softmax_diff(z):    \n",
        "#   return z*(1-z)\n",
        "\n",
        "def relu_diff(z):\n",
        "  relu = np.maximum(0, z)\n",
        "  relu[relu > 0] = 1\n",
        "  return relu\n",
        "\n",
        "def tanh_fun_diff(z):\n",
        "  tanh=(np.exp(z) - np.exp(-z)) / (np.exp(z) + np.exp(-z))\n",
        "  return 1-tanh**2\n",
        "\n",
        "\n",
        "# Choosing activation function\n",
        "def activation(a,act):\n",
        "  if act=='sigmoid':\n",
        "    return sigmoid(a)\n",
        "  if act=='tanh':\n",
        "    return tanh_fun(a)\n",
        "  if act=='relu':\n",
        "    return relu(a)\n",
        "\n",
        "# Choosing derivative of activation function\n",
        "def dActivation(a,act):\n",
        "  if act=='sigmoid':\n",
        "    return sigmoid_diff(a)\n",
        "  if act=='tanh':\n",
        "    return tanh_fun_diff(a)\n",
        "  if act=='relu':\n",
        "    return relu_diff(a)"
      ],
      "metadata": {
        "id": "fCFS8dANCq45"
      },
      "execution_count": null,
      "outputs": []
    },
    {
      "cell_type": "code",
      "source": [
        "\n",
        "# Cross entropy loss\n",
        "def cross_entropy_loss(y_hat,Y, W, alpha):\n",
        "  loss = 0\n",
        "  for i in range(Y.shape[1]):\n",
        "    loss -= np.log(y_hat[Y[0,i],i])\n",
        "  norm = 0\n",
        "  for i in range(1, len(W)):\n",
        "    norm +=np.linalg.norm((W[i]))\n",
        "  loss = loss +norm\n",
        "  loss = loss/Y.shape[1]\n",
        "  return loss\n",
        "\n",
        "# Cross entropy loss derivative\n",
        "def d_cross_entropy_loss(y_hat, X, y):\n",
        "  return (y_hat - one_hot_encode(X,y))\n",
        "\n",
        "# Mean squared loss\n",
        "def l2_loss(y_hat,Y,W,alpha):\n",
        "  loss=(np.linalg.norm(y_hat-Y))/2\n",
        "  norm = 0\n",
        "  for i in range(1, len(W)):\n",
        "    norm +=np.linalg.norm((W[i]))\n",
        "  loss = loss +norm\n",
        "  loss = loss/Y.shape[1]\n",
        "  return loss\n",
        "\n",
        "# Mean squared loss derivative\n",
        "def d_l2_loss(y_hat,X, Y):\n",
        "  return np.multiply((y_hat - one_hot_encode(X,Y)),np.multiply(y_hat,(1-y_hat)))\n",
        "\n",
        "# Choosing loss function\n",
        "def Loss(y_hat, y, W, alpha, choose_loss='crossentropy'):\n",
        "  if choose_loss == 'crossentropy':\n",
        "    return cross_entropy_loss(y_hat,y,W, alpha)\n",
        "  if choose_loss =='l2':\n",
        "    return l2_loss(y_hat,y,W, alpha)\n",
        "\n",
        "# Choosing derivative of loss function\n",
        "def dLoss(y_hat,X, y, choose_loss='crossentropy'):\n",
        "  if choose_loss == 'crossentropy':\n",
        "    return d_cross_entropy_loss(y_hat, X, y)\n",
        "  if choose_loss =='l2':\n",
        "    return d_l2_loss(y_hat, X, y)"
      ],
      "metadata": {
        "id": "JuDaNmtmJ652"
      },
      "execution_count": null,
      "outputs": []
    },
    {
      "cell_type": "code",
      "source": [
        "def accuracy(y_hat,Y):\n",
        "  return ((y_hat == Y).sum()/Y.shape[1])\n",
        " \n",
        "def loss_and_accuracy(W, b, X, Y, act, alpha):\n",
        "  y_hat = feedforward(X, W, b, N, l, act)[2]\n",
        "  y_predict = np.argmax(y_hat,axis=0).reshape([1,X.shape[1]])\n",
        "  loss = Loss(y_hat, Y, W, alpha)                             # For L2 loss, add 'l2' as an argument in the end\n",
        "  acc = accuracy(y_predict,Y)\n",
        "  return loss,acc"
      ],
      "metadata": {
        "id": "Qyz205HFKnrK"
      },
      "execution_count": null,
      "outputs": []
    },
    {
      "cell_type": "code",
      "source": [
        "def feedforward(X_input, W, b, N, l, act):\n",
        "  a=[]\n",
        "  a.append(np.array([0]))\n",
        "  h=[]\n",
        "  h.append(X_input)\n",
        "  for i in range(1,l):\n",
        "    a_new=b[i]+np.matmul(W[i],h[i-1])\n",
        "    h_new=activation(a_new,act)\n",
        "    a.append(a_new)\n",
        "    h.append(h_new)\n",
        "\n",
        "  a_new=b[l]+np.matmul(W[l],h[l-1])\n",
        "  y_hat=softmax(a_new)\n",
        "  a.append(a_new)\n",
        "\n",
        "  return a,h,y_hat"
      ],
      "metadata": {
        "id": "tZQzUZ8zK5M7"
      },
      "execution_count": null,
      "outputs": []
    },
    {
      "cell_type": "code",
      "source": [
        "def backprop(X, y,y_hat,W,a,h,act,alpha):\n",
        "  grad_W=[]\n",
        "  grad_b=[]\n",
        "  grad_a=[]\n",
        "  grad_h=[]\n",
        "  \n",
        "  da = dLoss(y_hat, X, y) # For L2 loss, add 'l2' as an argument in the end\n",
        "  grad_a.append(da)\n",
        "\n",
        "  for i in reversed(range(1,l+1)):\n",
        "    dw = (np.matmul(da,np.transpose(h[i-1])) + alpha*W[i])/(X.shape[1])\n",
        "    db = np.sum(da, axis=1, keepdims=True)/(X.shape[1])\n",
        "    dh_prev = np.matmul(np.transpose(W[i]),da)\n",
        "    da_prev = dh_prev*dActivation(a[i-1],act)\n",
        "\n",
        "    grad_W.append(dw)\n",
        "    grad_b.append(db)\n",
        "    da=da_prev\n",
        "\n",
        "  grad_W.append(0)\n",
        "  grad_b.append(0)\n",
        "  grad_W.reverse()\n",
        "  grad_b.reverse() \n",
        "\n",
        "  return grad_W,grad_b"
      ],
      "metadata": {
        "id": "21Khh80jK5KI"
      },
      "execution_count": null,
      "outputs": []
    },
    {
      "cell_type": "code",
      "source": [
        "# SGD\n",
        "def gradient_descent(epochs, learn_rate, batch_size, act, init, N, alpha):\n",
        "  W, b = initialize_weights(N,init, act)\n",
        "  n=(np.ceil(X_train.shape[1]/batch_size)).astype(int)\n",
        "  for i in range(epochs):\n",
        "    for j in range(n):\n",
        "      X=X_train[:,(j*batch_size):((j+1)*batch_size)]\n",
        "      Y=Y_train[:,(j*batch_size):((j+1)*batch_size)]\n",
        "      a, h, y_hat = feedforward(X, W, b, N, l,act)\n",
        "      grad_W, grad_b = backprop(X, Y, y_hat, W, a, h, act, alpha)\n",
        "      W_new =[]\n",
        "      W_new.append(0)\n",
        "      b_new =[]\n",
        "      b_new.append(0)\n",
        "      for k in range(1,l+1):\n",
        "        W_new.append(W[k] - (learn_rate*grad_W[k] - learn_rate*alpha*W[k]))\n",
        "        b_new.append(b[k] - (learn_rate*grad_b[k]))\n",
        "      W = W_new\n",
        "      b = b_new\n",
        "    loss, acc = loss_and_accuracy(W, b, X_train, Y_train, act,alpha)\n",
        "    val_loss, val_acc = loss_and_accuracy(W, b, X_val, Y_val, act,alpha)\n",
        "    wandb.log({\"loss\": loss, \"val_loss\": val_loss, \"accuracy\": acc, \"val_accuracy\": val_acc, \"epoch\": i})\n",
        "  return W, b\n",
        "\n",
        "\n",
        "# Momentum based gradient descent\n",
        "def mom_grad_descent(epochs, learn_rate, gamma, batch_size, act, init, N, alpha):\n",
        "  W, b = initialize_weights(N,init, act)\n",
        "  update_prev_w = []\n",
        "  update_prev_w.append(0)\n",
        "  update_prev_b = []\n",
        "  update_prev_b.append(0)\n",
        "  n=(np.ceil(X_train.shape[1]/batch_size)).astype(int)\n",
        "  for i in range(1,l+1):\n",
        "    update_prev_w.append(np.zeros(W[i].shape))\n",
        "    update_prev_b.append(np.zeros(b[i].shape))\n",
        "  for i in range(epochs):\n",
        "    for j in range(n):\n",
        "      X=X_train[:,(j*batch_size):((j+1)*batch_size)]\n",
        "      Y=Y_train[:,(j*batch_size):((j+1)*batch_size)]\n",
        "      update_w = []\n",
        "      update_w.append(0)\n",
        "      update_b = []\n",
        "      update_b.append(0)\n",
        "      a, h, y_hat = feedforward(X, W, b, N, l, act)\n",
        "      grad_W, grad_b = backprop(X, Y, y_hat, W, a, h, act, alpha)\n",
        "      W_new =[]\n",
        "      W_new.append(0)\n",
        "      b_new =[]\n",
        "      b_new.append(0)\n",
        "      \n",
        "      for k in range(1,l+1):\n",
        "        update_w.append(np.zeros(W[k].shape))\n",
        "        update_b.append(np.zeros(b[k].shape))\n",
        "        update_w[k] = gamma*update_prev_w[k] + learn_rate*grad_W[k] + learn_rate*alpha*W[k]\n",
        "        update_b[k] = gamma*update_prev_b[k] + learn_rate*grad_b[k]\n",
        "        W_new.append((W[k] - update_w[k]/batch_size))\n",
        "        b_new.append((b[k] - update_b[k]/batch_size))\n",
        "        update_prev_w[k]=update_w[k]\n",
        "        update_prev_b[k]=update_b[k]\n",
        "      del update_w\n",
        "      del update_b\n",
        "      W = W_new\n",
        "      b = b_new\n",
        "    loss, acc = loss_and_accuracy(W, b, X_train, Y_train, act,alpha)\n",
        "    val_loss, val_acc = loss_and_accuracy(W, b, X_val, Y_val, act,alpha)\n",
        "    wandb.log({\"loss\": loss, \"val_loss\": val_loss, \"accuracy\": acc, \"val_accuracy\": val_acc, \"epoch\": i})\n",
        "  return W, b\n",
        "\n",
        "\n",
        "# Nesterov accelerated gradient descent\n",
        "def nesterov_grad_descent(epochs, learn_rate, gamma, batch_size, act, init, N, alpha):\n",
        "  W, b = initialize_weights(N,init, act)\n",
        "  update_prev_w = []\n",
        "  update_prev_w.append(0)\n",
        "  update_prev_b = []\n",
        "  update_prev_b.append(0)\n",
        "  n=(np.ceil(X_train.shape[1]/batch_size)).astype(int)\n",
        "  for i in range(1,l+1):\n",
        "    update_prev_w.append(np.zeros(W[i].shape))\n",
        "    update_prev_b.append(np.zeros(b[i].shape))\n",
        "  for i in range(epochs):\n",
        "    for j in range(n):\n",
        "      X=X_train[:,(j*batch_size):((j+1)*batch_size)]\n",
        "      Y=Y_train[:,(j*batch_size):((j+1)*batch_size)]\n",
        "      update_w = []\n",
        "      update_w.append(0)\n",
        "      update_b = []\n",
        "      update_b.append(0)\n",
        "      a, h, y_hat = feedforward(X, W, b, N, l, act)\n",
        "      W_new =[]\n",
        "      W_new.append(0)\n",
        "      b_new =[]\n",
        "      b_new.append(0)\n",
        "      for k in range(1,l+1):\n",
        "        update_w.append(np.zeros(W[k].shape))\n",
        "        update_b.append(np.zeros(b[k].shape))\n",
        "        update_w[k] = gamma*update_prev_w[k]\n",
        "        update_b[k] = gamma*update_prev_b[k]\n",
        "        W_new.append((W[k] - update_w[k]/batch_size))\n",
        "        b_new.append((b[k] - update_b[k]/batch_size))\n",
        "      W = W_new\n",
        "      b = b_new\n",
        "      grad_W, grad_b = backprop(X, Y, y_hat, W, a, h, act, alpha)\n",
        "      for k in range(1,l+1):\n",
        "        update_w[k] = gamma*update_prev_w[k] + learn_rate*grad_W[k] + learn_rate*alpha*W[k]\n",
        "        update_b[k] = gamma*update_prev_b[k] + learn_rate*grad_b[k]\n",
        "        W_new[k] = (W[k] - update_w[k]/batch_size)\n",
        "        b_new[k] = (b[k] - update_b[k]/batch_size)\n",
        "        update_prev_w[k]=update_w[k]\n",
        "        update_prev_b[k]=update_b[k]\n",
        "      del update_w\n",
        "      del update_b\n",
        "      W = W_new\n",
        "      b = b_new\n",
        "    loss, acc = loss_and_accuracy(W, b, X_train, Y_train, act,alpha)\n",
        "    val_loss, val_acc = loss_and_accuracy(W, b, X_val, Y_val, act,alpha)\n",
        "    wandb.log({\"loss\": loss, \"val_loss\": val_loss, \"accuracy\": acc, \"val_accuracy\": val_acc, \"epoch\": i}) #Comment out this line before plotting the confusion matrix\n",
        "  return W, b\n",
        "\n",
        "\n",
        "# RMS prop\n",
        "def rms_prop(epochs, learn_rate, beta, epsilon, batch_size, act, init, N, alpha):\n",
        "  W, b = initialize_weights(N,init, act)\n",
        "  update_prev_w = []\n",
        "  update_prev_w.append(0)\n",
        "  update_prev_b = []\n",
        "  update_prev_b.append(0)\n",
        "  n=(np.ceil(X_train.shape[1]/batch_size)).astype(int)\n",
        "  for i in range(1,l+1):\n",
        "    update_prev_w.append(np.zeros(W[i].shape))\n",
        "    update_prev_b.append(np.zeros(b[i].shape))\n",
        "  for i in range(epochs):\n",
        "    for j in range(n):\n",
        "      X=X_train[:,(j*batch_size):((j+1)*batch_size)]\n",
        "      Y=Y_train[:,(j*batch_size):((j+1)*batch_size)]\n",
        "      update_w = []\n",
        "      update_w.append(0)\n",
        "      update_b = []\n",
        "      update_b.append(0)\n",
        "      a, h, y_hat = feedforward(X, W, b, N, l, act)\n",
        "      grad_W, grad_b = backprop(X, Y, y_hat, W, a, h, act, alpha)\n",
        "      W_new =[]\n",
        "      W_new.append(0)\n",
        "      b_new =[]\n",
        "      b_new.append(0)\n",
        "      for k in range(1,l+1):\n",
        "        update_w.append(np.zeros(W[k].shape))\n",
        "        update_b.append(np.zeros(b[k].shape))\n",
        "        update_w[k] = beta*update_prev_w[k] + (1-beta)*np.square(grad_W[k])\n",
        "        update_b[k] = beta*update_prev_b[k] + (1-beta)*np.square(grad_b[k])\n",
        "        W_new.append((W[k] - (learn_rate*np.divide(grad_W[k],(np.sqrt(update_w[k]+epsilon)))) - learn_rate*alpha*W[k]))\n",
        "        b_new.append((b[k] - (learn_rate*np.divide(grad_b[k],(np.sqrt(update_b[k]+epsilon))))))\n",
        "        update_prev_w[k]=update_w[k]\n",
        "        update_prev_b[k]=update_b[k]\n",
        "      del update_w\n",
        "      del update_b\n",
        "      W = W_new\n",
        "      b = b_new\n",
        "    loss, acc = loss_and_accuracy(W, b, X_train, Y_train, act,alpha)\n",
        "    val_loss, val_acc = loss_and_accuracy(W, b, X_val, Y_val, act,alpha)\n",
        "    wandb.log({\"loss\": loss, \"val_loss\": val_loss, \"accuracy\": acc, \"val_accuracy\": val_acc, \"epoch\": i})\n",
        "  return W, b\n",
        "\n",
        "\n",
        "# Adam\n",
        "def adam(epochs, learn_rate, beta1, beta2, epsilon, batch_size, act, init, N, alpha):\n",
        "  W, b = initialize_weights(N,init, act)\n",
        "  m_prev_w = []\n",
        "  m_prev_w.append(0)\n",
        "  m_prev_b = []\n",
        "  m_prev_b.append(0)\n",
        "  v_prev_w = []\n",
        "  v_prev_w.append(0)\n",
        "  v_prev_b = []\n",
        "  v_prev_b.append(0)\n",
        "  n=(np.ceil(X_train.shape[1]/batch_size)).astype(int)\n",
        "  for i in range(1,l+1):\n",
        "    m_prev_w.append(np.zeros(W[i].shape))\n",
        "    m_prev_b.append(np.zeros(b[i].shape))\n",
        "    v_prev_w.append(np.zeros(W[i].shape))\n",
        "    v_prev_b.append(np.zeros(b[i].shape))\n",
        "  for i in range(epochs):\n",
        "    for j in range(n):\n",
        "      X=X_train[:,(j*batch_size):((j+1)*batch_size)]\n",
        "      Y=Y_train[:,(j*batch_size):((j+1)*batch_size)]\n",
        "      m_w = []\n",
        "      m_w.append(0)\n",
        "      v_w = []\n",
        "      v_w.append(0)\n",
        "      m_b = []\n",
        "      m_b.append(0)\n",
        "      v_b = []\n",
        "      v_b.append(0)\n",
        "      a, h, y_hat = feedforward(X, W, b, N, l, act)\n",
        "      grad_W, grad_b = backprop(X, Y, y_hat, W, a, h, act, alpha)\n",
        "      W_new =[]\n",
        "      W_new.append(0)\n",
        "      b_new =[]\n",
        "      b_new.append(0)\n",
        "      for k in range(1,l+1):\n",
        "        m_w.append(np.zeros(W[k].shape))\n",
        "        v_w.append(np.zeros(W[k].shape))\n",
        "        m_b.append(np.zeros(b[k].shape))\n",
        "        v_b.append(np.zeros(b[k].shape))\n",
        "        t = i*n + j+1\n",
        "        m_w[k] = (beta1*m_prev_w[k] + (1-beta1)*grad_W[k])/(1-np.power(beta1,t))\n",
        "        v_w[k] = (beta2*v_prev_w[k] + (1-beta2)*np.square(grad_W[k]))/(1-np.power(beta2,t))\n",
        "        m_b[k] = (beta1*m_prev_b[k] + (1-beta1)*grad_b[k])/(1-np.power(beta1,t))\n",
        "        v_b[k] = (beta2*v_prev_b[k] + (1-beta2)*np.square(grad_b[k]))/(1-np.power(beta2,t))\n",
        "        W_new.append((W[k] - (learn_rate*np.divide(m_w[k],(np.sqrt(v_w[k]+epsilon)))) - learn_rate*alpha*W[k]))\n",
        "        b_new.append((b[k] - (learn_rate*np.divide(m_b[k],(np.sqrt(v_b[k]+epsilon))))))\n",
        "        m_prev_w[k] = m_w[k]\n",
        "        v_prev_w[k] = v_w[k]\n",
        "        m_prev_b[k] = m_b[k]\n",
        "        v_prev_b[k] = v_b[k]\n",
        "      del m_w\n",
        "      del v_w\n",
        "      del m_b\n",
        "      del v_b\n",
        "      W = W_new\n",
        "      b = b_new\n",
        "    loss, acc = loss_and_accuracy(W, b, X_train, Y_train, act,alpha)\n",
        "    val_loss, val_acc = loss_and_accuracy(W, b, X_val, Y_val, act,alpha)\n",
        "    wandb.log({\"loss\": loss, \"val_loss\": val_loss, \"accuracy\": acc, \"val_accuracy\": val_acc, \"epoch\": i})\n",
        "  return W, b\n",
        "\n",
        "\n",
        "# Nadam\n",
        "def nadam(epochs, learn_rate, beta1, beta2, epsilon, batch_size, act, init, N, alpha):\n",
        "  W, b = initialize_weights(N,init, act)\n",
        "  m_prev_w = []\n",
        "  m_prev_w.append(0)\n",
        "  m_prev_b = []\n",
        "  m_prev_b.append(0)\n",
        "  v_prev_w = []\n",
        "  v_prev_w.append(0)\n",
        "  v_prev_b = []\n",
        "  v_prev_b.append(0)\n",
        "  n=(np.ceil(X_train.shape[1]/batch_size)).astype(int)\n",
        "  for i in range(1,l+1):\n",
        "    m_prev_w.append(np.zeros(W[i].shape))\n",
        "    m_prev_b.append(np.zeros(b[i].shape))\n",
        "    v_prev_w.append(np.zeros(W[i].shape))\n",
        "    v_prev_b.append(np.zeros(b[i].shape))\n",
        "  for i in range(epochs):\n",
        "    for j in range(n):\n",
        "      X=X_train[:,(j*batch_size):((j+1)*batch_size)]\n",
        "      Y=Y_train[:,(j*batch_size):((j+1)*batch_size)]\n",
        "      m_w = []\n",
        "      m_w.append(0)\n",
        "      v_w = []\n",
        "      v_w.append(0)\n",
        "      m_b = []\n",
        "      m_b.append(0)\n",
        "      v_b = []\n",
        "      v_b.append(0)\n",
        "      a, h, y_hat = feedforward(X, W, b, N, l, act)\n",
        "      W_new =[]\n",
        "      W_new.append(0)\n",
        "      b_new =[]\n",
        "      b_new.append(0)\n",
        "      for k in range(1,l+1):\n",
        "        m_w.append(np.zeros(W[k].shape))\n",
        "        v_w.append(np.zeros(W[k].shape))\n",
        "        m_b.append(np.zeros(b[k].shape))\n",
        "        v_b.append(np.zeros(b[k].shape))\n",
        "        t = i*n + j+1\n",
        "        m_w[k] = (beta1*m_prev_w[k])/(1-np.power(beta1,t))\n",
        "        v_w[k] = (beta2*v_prev_w[k])/(1-np.power(beta2,t))\n",
        "        m_b[k] = (beta1*m_prev_b[k])/(1-np.power(beta1,t))\n",
        "        v_b[k] = (beta2*v_prev_b[k])/(1-np.power(beta2,t))\n",
        "        W_new.append((W[k] - (learn_rate*np.divide(m_w[k],(np.sqrt(v_w[k]+epsilon))))))\n",
        "        b_new.append((b[k] - (learn_rate*np.divide(m_b[k],(np.sqrt(v_b[k]+epsilon))))))\n",
        "      W = W_new\n",
        "      b = b_new\n",
        "      grad_W, grad_b = backprop(X, Y, y_hat, W, a, h, act, alpha)\n",
        "      for k in range(1,l+1):\n",
        "        m_w[k] = (beta1*m_prev_w[k] + (1-beta1)*grad_W[k])/(1-np.power(beta1,t))\n",
        "        v_w[k] = (beta2*v_prev_w[k] + (1-beta2)*np.square(grad_W[k]))/(1-np.power(beta2,t))\n",
        "        m_b[k] = (beta1*m_prev_b[k] + (1-beta1)*grad_b[k])/(1-np.power(beta1,t))\n",
        "        v_b[k] = (beta2*v_prev_b[k] + (1-beta2)*np.square(grad_b[k]))/(1-np.power(beta2,t))\n",
        "        W_new[k] = W[k] - (learn_rate*np.divide(m_w[k],(np.sqrt(v_w[k]+epsilon)))) - learn_rate*alpha*W[k]\n",
        "        b_new[k] = b[k] - (learn_rate*np.divide(m_b[k],(np.sqrt(v_b[k]+epsilon))))\n",
        "        m_prev_w[k] = m_w[k]\n",
        "        v_prev_w[k] = v_w[k]\n",
        "        m_prev_b[k] = m_b[k]\n",
        "        v_prev_b[k] = v_b[k]\n",
        "      del m_w\n",
        "      del v_w\n",
        "      del m_b\n",
        "      del v_b\n",
        "      W = W_new\n",
        "      b = b_new\n",
        "    loss, acc = loss_and_accuracy(W, b, X_train, Y_train, act,alpha)\n",
        "    val_loss, val_acc = loss_and_accuracy(W, b, X_val, Y_val, act,alpha)\n",
        "    wandb.log({\"loss\": loss, \"val_loss\": val_loss, \"accuracy\": acc, \"val_accuracy\": val_acc, \"epoch\": i})\n",
        "  return W, b"
      ],
      "metadata": {
        "id": "xwX-z1uVK5Hb"
      },
      "execution_count": null,
      "outputs": []
    },
    {
      "cell_type": "code",
      "source": [
        "N_example = [X_train.shape[0],64,32,16,no_of_class]                                      # Structure of the neural network\n",
        "l = len(N_example) - 1                                                                    # Number of layers\n",
        "W, b = initialize_weights (N_example,'random','sigmoid')\n",
        "num = np.random.randint(0, X_train.shape[1]-1)                                            # Random image number for which the feedforward output will be printed\n",
        "_,_,y_hat = feedforward(X_train[:, num].reshape([784,1]), W, b, N_example, l, 'sigmoid')  # Probability of classes as output\n",
        "print (y_hat)"
      ],
      "metadata": {
        "colab": {
          "base_uri": "https://localhost:8080/"
        },
        "id": "ShLYt56ZLr1X",
        "outputId": "50d5a06f-892b-4d4d-8fb5-3fb0a2aece70"
      },
      "execution_count": null,
      "outputs": [
        {
          "output_type": "stream",
          "name": "stdout",
          "text": [
            "[[5.83644321e-04]\n",
            " [5.09185798e-03]\n",
            " [7.06951479e-04]\n",
            " [2.11296412e-02]\n",
            " [1.94602924e-04]\n",
            " [4.64082101e-03]\n",
            " [3.94606828e-01]\n",
            " [4.96929861e-01]\n",
            " [1.64034681e-03]\n",
            " [7.44754448e-02]]\n"
          ]
        }
      ]
    },
    {
      "cell_type": "code",
      "source": [
        "\n",
        "sweep_config = {\n",
        "    'method': 'grid'\n",
        "    }\n",
        "\n",
        "\n",
        "### To run each sweep mentioned in the report, uncomment only the corresponding dictionary ###\n",
        "\n",
        "# Parameters for first sweep\n",
        "parameters_dict = {\n",
        "    'networks':{\n",
        "        'values': [0]\n",
        "      },\n",
        "    'alpha': {\n",
        "        'values': [0.0005]\n",
        "      },\n",
        "    'learn_rate': {\n",
        "        'values': [1e-2]\n",
        "      },\n",
        "    'epochs': {\n",
        "        'values': [10]\n",
        "      },\n",
        "    'batch_size': {\n",
        "        'values': [32]\n",
        "      },\n",
        "    'init': {\n",
        "        'values': ['random','xavier']\n",
        "      },\n",
        "    'optimizer': {\n",
        "        'values': ['sgd','mom','nest','rms','adam','nadam']\n",
        "      },\n",
        "    'act': {\n",
        "          'values': ['tanh']\n",
        "      }\n",
        "}\n",
        "\n",
        "# Parameters for second sweep\n",
        "parameters_dict = {\n",
        "    'networks':{\n",
        "        'values': [1,2]\n",
        "      },\n",
        "    'alpha': {\n",
        "        'values': [0.0005]\n",
        "      },\n",
        "    'learn_rate': {\n",
        "        'values': [1e-1]\n",
        "      },\n",
        "    'epochs': {\n",
        "        'values': [10]\n",
        "      },\n",
        "    'batch_size': {\n",
        "        'values': [32]\n",
        "      },\n",
        "    'init': {\n",
        "        'values': ['xavier']\n",
        "      },\n",
        "    'optimizer': {\n",
        "        'values': ['mom', 'nest']\n",
        "      },\n",
        "    'act': {\n",
        "          'values': ['tanh']\n",
        "      }\n",
        "}\n",
        "\n",
        "# Parameters for third sweep\n",
        "parameters_dict = {\n",
        "    'networks':{\n",
        "        'values': [0,1,2,3,4,5,6,7,8]\n",
        "      },\n",
        "    'alpha': {\n",
        "        'values': [0.0005]\n",
        "      },\n",
        "    'learn_rate': {\n",
        "        'values': [1e-1]\n",
        "      },\n",
        "    'epochs': {\n",
        "        'values': [10]\n",
        "      },\n",
        "    'batch_size': {\n",
        "        'values': [32]\n",
        "      },\n",
        "    'init': {\n",
        "        'values': ['xavier']\n",
        "      },\n",
        "    'optimizer': {\n",
        "        'values': ['mom', 'nest']\n",
        "      },\n",
        "    'act': {\n",
        "          'values': ['tanh']\n",
        "      }\n",
        "}\n",
        "\n",
        "# Parameters for fourth sweep\n",
        "parameters_dict = {\n",
        "    'networks':{\n",
        "        'values': [1,2,3,6]\n",
        "      },\n",
        "    'alpha': {\n",
        "        'values': [0.0005, 0.05]\n",
        "      },\n",
        "    'learn_rate': {\n",
        "        'values': [1e-1]\n",
        "      },\n",
        "    'epochs': {\n",
        "        'values': [7,10]\n",
        "      },\n",
        "    'batch_size': {\n",
        "        'values': [16,32]\n",
        "      },\n",
        "    'init': {\n",
        "        'values': ['xavier']\n",
        "      },\n",
        "    'optimizer': {\n",
        "        'values': ['mom', 'nest']\n",
        "      },\n",
        "    'act': {\n",
        "          'values': ['tanh']\n",
        "      }\n",
        "}\n",
        "\n",
        "# Parameters for fifth sweep\n",
        "parameters_dict = {\n",
        "    'networks':{\n",
        "        'values': [3,6]\n",
        "      },\n",
        "    'alpha': {\n",
        "        'values': [0.0005,0.005]\n",
        "      },\n",
        "    'learn_rate': {\n",
        "        'values': [1e-2,1e-3]\n",
        "      },\n",
        "    'epochs': {\n",
        "        'values': [15]\n",
        "      },\n",
        "    'batch_size': {\n",
        "        'values': [64,32]\n",
        "      },\n",
        "    'init': {\n",
        "        'values': ['xavier']\n",
        "      },\n",
        "    'optimizer': {\n",
        "        'values': ['mom', 'nest']\n",
        "      },\n",
        "    'act': {\n",
        "          'values': ['tanh']\n",
        "      }\n",
        "}\n",
        "\n",
        "# Parameters for sixth sweep (with augmented dataset)\n",
        "# To augment the dataset, uncomment the corresponding line in the load_data() function\n",
        "parameters_dict = {\n",
        "    'networks':{\n",
        "        'values': [3]\n",
        "      },\n",
        "    'alpha': {\n",
        "        'values': [0.0005]\n",
        "      },\n",
        "    'learn_rate': {\n",
        "        'values': [1e-2,1e-3]\n",
        "      },\n",
        "    'epochs': {\n",
        "        'values': [15]\n",
        "      },\n",
        "    'batch_size': {\n",
        "        'values': [32]\n",
        "      },\n",
        "    'init': {\n",
        "        'values': ['xavier']\n",
        "      },\n",
        "    'optimizer': {\n",
        "        'values': ['mom', 'nest']\n",
        "      },\n",
        "    'act': {\n",
        "          'values': ['tanh','relu']\n",
        "      }\n",
        "}\n",
        "\n",
        "sweep_config['parameters'] = parameters_dict\n",
        "pprint.pprint(sweep_config)\n",
        "\n",
        "def training_sweep(config=None):\n",
        "    with wandb.init(config=config):\n",
        "        config = wandb.config\n",
        "        network = [[X_train.shape[0],64,32,16,no_of_class],\n",
        "                   [X_train.shape[0],32,32,32,no_of_class],\n",
        "                   [X_train.shape[0],64,64,64,no_of_class],\n",
        "                   [X_train.shape[0],128,64,32,16,no_of_class],\n",
        "                   [X_train.shape[0],32,32,32,32,no_of_class],\n",
        "                   [X_train.shape[0],64,64,64,64,no_of_class],\n",
        "                   [X_train.shape[0],256,128,64,32,16,no_of_class],\n",
        "                   [X_train.shape[0],32,32,32,32,32,no_of_class],\n",
        "                   [X_train.shape[0],64,64,64,64,64,no_of_class]]\n",
        "        global N\n",
        "        N = network[config.networks]\n",
        "        global l\n",
        "        l = len(N)-1\n",
        "        wandb.log({\"Structure\": N})\n",
        "        if config.optimizer == 'sgd':\n",
        "          gradient_descent(config.epochs, config.learn_rate, config.batch_size, config.act, config.init, N, config.alpha)\n",
        "        if config.optimizer == 'mom':\n",
        "          mom_grad_descent(config.epochs, config.learn_rate, 0.9, config.batch_size, config.act, config.init, N, config.alpha)\n",
        "        if config.optimizer == 'nest':\n",
        "          nesterov_grad_descent(config.epochs, config.learn_rate, 0.9, config.batch_size, config.act, config.init, N, config.alpha)\n",
        "        if config.optimizer == 'rms':\n",
        "          rms_prop(config.epochs, config.learn_rate, 0.9, 10**-8,config.batch_size, config.act, config.init, N, config.alpha)\n",
        "        if config.optimizer == 'adam':\n",
        "          adam(config.epochs, config.learn_rate, 0.9, 0.99, 10**-8,config.batch_size, config.act, config.init, N, config.alpha)\n",
        "        if config.optimizer == 'nadam':\n",
        "          nadam(config.epochs, config.learn_rate, 0.9, 0.99, 10**-8,config.batch_size, config.act, config.init, N, config.alpha)"
      ],
      "metadata": {
        "colab": {
          "base_uri": "https://localhost:8080/"
        },
        "id": "XlprXt3uMP15",
        "outputId": "fd91aee4-2537-423a-bf3b-ed4698d7f31e"
      },
      "execution_count": null,
      "outputs": [
        {
          "output_type": "stream",
          "name": "stdout",
          "text": [
            "{'method': 'grid',\n",
            " 'parameters': {'act': {'values': ['tanh', 'relu']},\n",
            "                'alpha': {'values': [0.0005]},\n",
            "                'batch_size': {'values': [32]},\n",
            "                'epochs': {'values': [15]},\n",
            "                'init': {'values': ['xavier']},\n",
            "                'learn_rate': {'values': [0.01, 0.001]},\n",
            "                'networks': {'values': [3]},\n",
            "                'optimizer': {'values': ['mom', 'nest']}}}\n"
          ]
        }
      ]
    },
    {
      "cell_type": "code",
      "source": [],
      "metadata": {
        "id": "XwKPZNw0TGdU"
      },
      "execution_count": null,
      "outputs": []
    },
    {
      "cell_type": "code",
      "source": [
        "sweep_id = wandb.sweep(sweep_config, project=\"cs6910_Ass_01_Q4\")\n",
        "wandb.agent(sweep_id, training_sweep)"
      ],
      "metadata": {
        "colab": {
          "base_uri": "https://localhost:8080/"
        },
        "id": "J2Lwy2lqMWVC",
        "outputId": "ae504d39-a878-4398-c40a-37113d31e4af"
      },
      "execution_count": null,
      "outputs": [
        {
          "output_type": "stream",
          "name": "stderr",
          "text": [
            "\u001b[34m\u001b[1mwandb\u001b[0m: \u001b[33mWARNING\u001b[0m Calling wandb.login() after wandb.init() has no effect.\n"
          ]
        },
        {
          "output_type": "stream",
          "name": "stdout",
          "text": [
            "Create sweep with ID: avmyz16q\n",
            "Sweep URL: https://wandb.ai/rounit/cs6910_Ass_01_Q4/sweeps/avmyz16q\n"
          ]
        }
      ]
    },
    {
      "cell_type": "code",
      "source": [
        "N = [784, 128, 64, 32, 16, 10]\n",
        "l = len(N)-1\n",
        "W, b = nesterov_grad_descent(30, 0.01, 0.9, 32, 'tanh', 'xavier', N, 0.0005)\n",
        "y_hat = feedforward(X_test, W, b, N, l, 'tanh')[2]\n",
        "y_predict = np.argmax(y_hat,axis=0).reshape([1,X_test.shape[1]])\n",
        "wandb.init(project=\"cs6910_Ass_01_Q4\", entity=\"rounit57\")\n",
        "wandb.log({\"conf_mat\" : wandb.plot.confusion_matrix(probs=None, y_true=Y_test.reshape([Y_test.shape[1]]), preds=y_predict.reshape([Y_test.shape[1]]),class_names=label)})\n",
        "     "
      ],
      "metadata": {
        "id": "GCs2bYlhP4Lt"
      },
      "execution_count": null,
      "outputs": []
    },
    {
      "cell_type": "code",
      "source": [],
      "metadata": {
        "id": "-tdkQRzwQFaj"
      },
      "execution_count": null,
      "outputs": []
    }
  ]
}